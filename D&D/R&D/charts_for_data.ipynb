{
 "cells": [
  {
   "cell_type": "code",
   "execution_count": 30,
   "metadata": {},
   "outputs": [],
   "source": [
    "import pandas as pd\n",
    "import altair as alt"
   ]
  },
  {
   "cell_type": "code",
   "execution_count": 31,
   "metadata": {},
   "outputs": [],
   "source": [
    "dat = pd.read_csv('vals.csv')\n",
    "simudata = pd.read_csv('simudata.csv')"
   ]
  },
  {
   "cell_type": "code",
   "execution_count": 39,
   "metadata": {},
   "outputs": [
    {
     "name": "stderr",
     "output_type": "stream",
     "text": [
      "c:\\Users\\marsh\\AppData\\Local\\Programs\\Python\\Python39\\lib\\site-packages\\altair\\utils\\core.py:283: FutureWarning: iteritems is deprecated and will be removed in a future version. Use .items instead.\n",
      "  for col_name, dtype in df.dtypes.iteritems():\n"
     ]
    },
    {
     "data": {
      "text/html": [
       "\n",
       "<div id=\"altair-viz-93af8e0fda114b949a8545d1652aeb07\"></div>\n",
       "<script type=\"text/javascript\">\n",
       "  (function(spec, embedOpt){\n",
       "    let outputDiv = document.currentScript.previousElementSibling;\n",
       "    if (outputDiv.id !== \"altair-viz-93af8e0fda114b949a8545d1652aeb07\") {\n",
       "      outputDiv = document.getElementById(\"altair-viz-93af8e0fda114b949a8545d1652aeb07\");\n",
       "    }\n",
       "    const paths = {\n",
       "      \"vega\": \"https://cdn.jsdelivr.net/npm//vega@5?noext\",\n",
       "      \"vega-lib\": \"https://cdn.jsdelivr.net/npm//vega-lib?noext\",\n",
       "      \"vega-lite\": \"https://cdn.jsdelivr.net/npm//vega-lite@4.8.1?noext\",\n",
       "      \"vega-embed\": \"https://cdn.jsdelivr.net/npm//vega-embed@6?noext\",\n",
       "    };\n",
       "\n",
       "    function loadScript(lib) {\n",
       "      return new Promise(function(resolve, reject) {\n",
       "        var s = document.createElement('script');\n",
       "        s.src = paths[lib];\n",
       "        s.async = true;\n",
       "        s.onload = () => resolve(paths[lib]);\n",
       "        s.onerror = () => reject(`Error loading script: ${paths[lib]}`);\n",
       "        document.getElementsByTagName(\"head\")[0].appendChild(s);\n",
       "      });\n",
       "    }\n",
       "\n",
       "    function showError(err) {\n",
       "      outputDiv.innerHTML = `<div class=\"error\" style=\"color:red;\">${err}</div>`;\n",
       "      throw err;\n",
       "    }\n",
       "\n",
       "    function displayChart(vegaEmbed) {\n",
       "      vegaEmbed(outputDiv, spec, embedOpt)\n",
       "        .catch(err => showError(`Javascript Error: ${err.message}<br>This usually means there's a typo in your chart specification. See the javascript console for the full traceback.`));\n",
       "    }\n",
       "\n",
       "    if(typeof define === \"function\" && define.amd) {\n",
       "      requirejs.config({paths});\n",
       "      require([\"vega-embed\"], displayChart, err => showError(`Error loading script: ${err.message}`));\n",
       "    } else if (typeof vegaEmbed === \"function\") {\n",
       "      displayChart(vegaEmbed);\n",
       "    } else {\n",
       "      loadScript(\"vega\")\n",
       "        .then(() => loadScript(\"vega-lite\"))\n",
       "        .then(() => loadScript(\"vega-embed\"))\n",
       "        .catch(showError)\n",
       "        .then(() => displayChart(vegaEmbed));\n",
       "    }\n",
       "  })({\"config\": {\"view\": {\"continuousWidth\": 400, \"continuousHeight\": 300}}, \"data\": {\"name\": \"data-cf350126cad3bf6f0d038171e693fae6\"}, \"mark\": \"circle\", \"encoding\": {\"color\": {\"type\": \"nominal\", \"field\": \"Difficulty\"}, \"x\": {\"type\": \"quantitative\", \"field\": \"Rnds\"}, \"y\": {\"type\": \"quantitative\", \"field\": \"% PC HP\"}}, \"$schema\": \"https://vega.github.io/schema/vega-lite/v4.8.1.json\", \"datasets\": {\"data-cf350126cad3bf6f0d038171e693fae6\": [{\"PC Level\": 3, \"Monsters\": 1, \"Difficulty\": \"Easy\", \"Rnds\": 2.99, \"% PC HP\": 11}, {\"PC Level\": 3, \"Monsters\": 1, \"Difficulty\": \"Medium\", \"Rnds\": 3.56, \"% PC HP\": 20}, {\"PC Level\": 3, \"Monsters\": 1, \"Difficulty\": \"Hard\", \"Rnds\": 4.14, \"% PC HP\": 34}, {\"PC Level\": 3, \"Monsters\": 1, \"Difficulty\": \"Deadly\", \"Rnds\": 5.09, \"% PC HP\": 57}, {\"PC Level\": 4, \"Monsters\": 1, \"Difficulty\": \"Easy\", \"Rnds\": 2.86, \"% PC HP\": 10}, {\"PC Level\": 4, \"Monsters\": 1, \"Difficulty\": \"Medium\", \"Rnds\": 3.32, \"% PC HP\": 17}, {\"PC Level\": 4, \"Monsters\": 1, \"Difficulty\": \"Hard\", \"Rnds\": 4.07, \"% PC HP\": 29}, {\"PC Level\": 4, \"Monsters\": 1, \"Difficulty\": \"Deadly\", \"Rnds\": 4.93, \"% PC HP\": 47}, {\"PC Level\": 6, \"Monsters\": 1, \"Difficulty\": \"Easy\", \"Rnds\": 2.06, \"% PC HP\": 10}, {\"PC Level\": 6, \"Monsters\": 1, \"Difficulty\": \"Medium\", \"Rnds\": 2.75, \"% PC HP\": 20}, {\"PC Level\": 6, \"Monsters\": 1, \"Difficulty\": \"Hard\", \"Rnds\": 3.02, \"% PC HP\": 25}, {\"PC Level\": 6, \"Monsters\": 1, \"Difficulty\": \"Deadly\", \"Rnds\": 3.83, \"% PC HP\": 44}, {\"PC Level\": 8, \"Monsters\": 1, \"Difficulty\": \"Easy\", \"Rnds\": 2.18, \"% PC HP\": 10}, {\"PC Level\": 8, \"Monsters\": 1, \"Difficulty\": \"Medium\", \"Rnds\": 2.66, \"% PC HP\": 17}, {\"PC Level\": 8, \"Monsters\": 1, \"Difficulty\": \"Hard\", \"Rnds\": 3.36, \"% PC HP\": 29}, {\"PC Level\": 8, \"Monsters\": 1, \"Difficulty\": \"Deadly\", \"Rnds\": 4.45, \"% PC HP\": 54}, {\"PC Level\": 10, \"Monsters\": 1, \"Difficulty\": \"Easy\", \"Rnds\": 1.82, \"% PC HP\": 8}, {\"PC Level\": 10, \"Monsters\": 1, \"Difficulty\": \"Medium\", \"Rnds\": 2.33, \"% PC HP\": 14}, {\"PC Level\": 10, \"Monsters\": 1, \"Difficulty\": \"Hard\", \"Rnds\": 3.11, \"% PC HP\": 27}, {\"PC Level\": 10, \"Monsters\": 1, \"Difficulty\": \"Deadly\", \"Rnds\": 3.81, \"% PC HP\": 39}, {\"PC Level\": 3, \"Monsters\": 2, \"Difficulty\": \"Easy\", \"Rnds\": 4.6, \"% PC HP\": 20}, {\"PC Level\": 3, \"Monsters\": 2, \"Difficulty\": \"Medium\", \"Rnds\": 5.98, \"% PC HP\": 44}, {\"PC Level\": 3, \"Monsters\": 2, \"Difficulty\": \"Hard\", \"Rnds\": 5.98, \"% PC HP\": 44}, {\"PC Level\": 3, \"Monsters\": 2, \"Difficulty\": \"Deadly\", \"Rnds\": 7.13, \"% PC HP\": 78}, {\"PC Level\": 4, \"Monsters\": 2, \"Difficulty\": \"Easy\", \"Rnds\": 3.69, \"% PC HP\": 10}, {\"PC Level\": 4, \"Monsters\": 2, \"Difficulty\": \"Medium\", \"Rnds\": 4.8, \"% PC HP\": 22}, {\"PC Level\": 4, \"Monsters\": 2, \"Difficulty\": \"Hard\", \"Rnds\": 5.72, \"% PC HP\": 39}, {\"PC Level\": 4, \"Monsters\": 2, \"Difficulty\": \"Deadly\", \"Rnds\": 6.65, \"% PC HP\": 68}, {\"PC Level\": 6, \"Monsters\": 2, \"Difficulty\": \"Easy\", \"Rnds\": 2.92, \"% PC HP\": 13}, {\"PC Level\": 6, \"Monsters\": 2, \"Difficulty\": \"Medium\", \"Rnds\": 3.39, \"% PC HP\": 23}, {\"PC Level\": 6, \"Monsters\": 2, \"Difficulty\": \"Hard\", \"Rnds\": 4.12, \"% PC HP\": 39}, {\"PC Level\": 6, \"Monsters\": 2, \"Difficulty\": \"Deadly\", \"Rnds\": 4.96, \"% PC HP\": 62}, {\"PC Level\": 8, \"Monsters\": 2, \"Difficulty\": \"Easy\", \"Rnds\": 3.01, \"% PC HP\": 15}, {\"PC Level\": 8, \"Monsters\": 2, \"Difficulty\": \"Medium\", \"Rnds\": 3.64, \"% PC HP\": 26}, {\"PC Level\": 8, \"Monsters\": 2, \"Difficulty\": \"Hard\", \"Rnds\": 4.37, \"% PC HP\": 41}, {\"PC Level\": 8, \"Monsters\": 2, \"Difficulty\": \"Deadly\", \"Rnds\": 4.84, \"% PC HP\": 53}, {\"PC Level\": 10, \"Monsters\": 2, \"Difficulty\": \"Easy\", \"Rnds\": 2.27, \"% PC HP\": 9}, {\"PC Level\": 10, \"Monsters\": 2, \"Difficulty\": \"Medium\", \"Rnds\": 2.74, \"% PC HP\": 15}, {\"PC Level\": 10, \"Monsters\": 2, \"Difficulty\": \"Hard\", \"Rnds\": 3.64, \"% PC HP\": 31}, {\"PC Level\": 10, \"Monsters\": 2, \"Difficulty\": \"Deadly\", \"Rnds\": 4.65, \"% PC HP\": 56}, {\"PC Level\": 3, \"Monsters\": 3, \"Difficulty\": \"Easy\", \"Rnds\": 3.91, \"% PC HP\": 15}, {\"PC Level\": 3, \"Monsters\": 3, \"Difficulty\": \"Medium\", \"Rnds\": 6.28, \"% PC HP\": 42}, {\"PC Level\": 3, \"Monsters\": 3, \"Difficulty\": \"Hard\", \"Rnds\": 7.59, \"% PC HP\": 60}, {\"PC Level\": 3, \"Monsters\": 3, \"Difficulty\": \"Deadly\", \"Rnds\": 6.86, \"% PC HP\": 58}, {\"PC Level\": 4, \"Monsters\": 3, \"Difficulty\": \"Easy\", \"Rnds\": 3.69, \"% PC HP\": 13}, {\"PC Level\": 4, \"Monsters\": 3, \"Difficulty\": \"Medium\", \"Rnds\": 4.15, \"% PC HP\": 19}, {\"PC Level\": 4, \"Monsters\": 3, \"Difficulty\": \"Hard\", \"Rnds\": 4.62, \"% PC HP\": 29}, {\"PC Level\": 4, \"Monsters\": 3, \"Difficulty\": \"Deadly\", \"Rnds\": 7.02, \"% PC HP\": 55}, {\"PC Level\": 6, \"Monsters\": 3, \"Difficulty\": \"Easy\", \"Rnds\": 2.81, \"% PC HP\": 12}, {\"PC Level\": 6, \"Monsters\": 3, \"Difficulty\": \"Medium\", \"Rnds\": 4.14, \"% PC HP\": 26}, {\"PC Level\": 6, \"Monsters\": 3, \"Difficulty\": \"Hard\", \"Rnds\": 4.47, \"% PC HP\": 34}, {\"PC Level\": 6, \"Monsters\": 3, \"Difficulty\": \"Deadly\", \"Rnds\": 5.31, \"% PC HP\": 64}, {\"PC Level\": 8, \"Monsters\": 3, \"Difficulty\": \"Easy\", \"Rnds\": 3.17, \"% PC HP\": 12}, {\"PC Level\": 8, \"Monsters\": 3, \"Difficulty\": \"Medium\", \"Rnds\": 3.96, \"% PC HP\": 23}, {\"PC Level\": 8, \"Monsters\": 3, \"Difficulty\": \"Hard\", \"Rnds\": 4.7, \"% PC HP\": 43}, {\"PC Level\": 8, \"Monsters\": 3, \"Difficulty\": \"Deadly\", \"Rnds\": 5.35, \"% PC HP\": 56}, {\"PC Level\": 10, \"Monsters\": 3, \"Difficulty\": \"Easy\", \"Rnds\": 2.78, \"% PC HP\": 10}, {\"PC Level\": 10, \"Monsters\": 3, \"Difficulty\": \"Medium\", \"Rnds\": 3.31, \"% PC HP\": 21}, {\"PC Level\": 10, \"Monsters\": 3, \"Difficulty\": \"Hard\", \"Rnds\": 4.03, \"% PC HP\": 33}, {\"PC Level\": 10, \"Monsters\": 3, \"Difficulty\": \"Deadly\", \"Rnds\": 4.45, \"% PC HP\": 45}, {\"PC Level\": 3, \"Monsters\": 4, \"Difficulty\": \"Easy\", \"Rnds\": 1.61, \"% PC HP\": 6}, {\"PC Level\": 3, \"Monsters\": 4, \"Difficulty\": \"Medium\", \"Rnds\": 3.3, \"% PC HP\": 20}, {\"PC Level\": 3, \"Monsters\": 4, \"Difficulty\": \"Hard\", \"Rnds\": 4.6, \"% PC HP\": 39}, {\"PC Level\": 3, \"Monsters\": 4, \"Difficulty\": \"Deadly\", \"Rnds\": 5.98, \"% PC HP\": 87}, {\"PC Level\": 4, \"Monsters\": 4, \"Difficulty\": \"Easy\", \"Rnds\": 2.65, \"% PC HP\": 10}, {\"PC Level\": 4, \"Monsters\": 4, \"Difficulty\": \"Medium\", \"Rnds\": 3.69, \"% PC HP\": 20}, {\"PC Level\": 4, \"Monsters\": 4, \"Difficulty\": \"Hard\", \"Rnds\": 4.8, \"% PC HP\": 44}, {\"PC Level\": 4, \"Monsters\": 4, \"Difficulty\": \"Deadly\", \"Rnds\": 4.8, \"% PC HP\": 44}, {\"PC Level\": 6, \"Monsters\": 4, \"Difficulty\": \"Easy\", \"Rnds\": 1.88, \"% PC HP\": 6}, {\"PC Level\": 6, \"Monsters\": 4, \"Difficulty\": \"Medium\", \"Rnds\": 2.45, \"% PC HP\": 14}, {\"PC Level\": 6, \"Monsters\": 4, \"Difficulty\": \"Hard\", \"Rnds\": 2.92, \"% PC HP\": 26}, {\"PC Level\": 6, \"Monsters\": 4, \"Difficulty\": \"Deadly\", \"Rnds\": 3.39, \"% PC HP\": 45}, {\"PC Level\": 8, \"Monsters\": 4, \"Difficulty\": \"Easy\", \"Rnds\": 2.17, \"% PC HP\": 10}, {\"PC Level\": 8, \"Monsters\": 4, \"Difficulty\": \"Medium\", \"Rnds\": 2.59, \"% PC HP\": 17}, {\"PC Level\": 8, \"Monsters\": 4, \"Difficulty\": \"Hard\", \"Rnds\": 3.01, \"% PC HP\": 30}, {\"PC Level\": 8, \"Monsters\": 4, \"Difficulty\": \"Deadly\", \"Rnds\": 3.64, \"% PC HP\": 51}, {\"PC Level\": 10, \"Monsters\": 4, \"Difficulty\": \"Easy\", \"Rnds\": 1.64, \"% PC HP\": 6}, {\"PC Level\": 10, \"Monsters\": 4, \"Difficulty\": \"Medium\", \"Rnds\": 1.96, \"% PC HP\": 10}, {\"PC Level\": 10, \"Monsters\": 4, \"Difficulty\": \"Hard\", \"Rnds\": 2.27, \"% PC HP\": 18}, {\"PC Level\": 10, \"Monsters\": 4, \"Difficulty\": \"Deadly\", \"Rnds\": 2.74, \"% PC HP\": 30}, {\"PC Level\": 3, \"Monsters\": 8, \"Difficulty\": \"Easy\", \"Rnds\": 0.31, \"% PC HP\": 1}, {\"PC Level\": 3, \"Monsters\": 8, \"Difficulty\": \"Medium\", \"Rnds\": 1.61, \"% PC HP\": 12}, {\"PC Level\": 3, \"Monsters\": 8, \"Difficulty\": \"Hard\", \"Rnds\": 3.3, \"% PC HP\": 40}, {\"PC Level\": 3, \"Monsters\": 8, \"Difficulty\": \"Deadly\", \"Rnds\": 3.3, \"% PC HP\": 40}, {\"PC Level\": 4, \"Monsters\": 8, \"Difficulty\": \"Easy\", \"Rnds\": 1.29, \"% PC HP\": 6}, {\"PC Level\": 4, \"Monsters\": 8, \"Difficulty\": \"Medium\", \"Rnds\": 2.65, \"% PC HP\": 20}, {\"PC Level\": 4, \"Monsters\": 8, \"Difficulty\": \"Hard\", \"Rnds\": 2.65, \"% PC HP\": 20}, {\"PC Level\": 4, \"Monsters\": 8, \"Difficulty\": \"Deadly\", \"Rnds\": 3.69, \"% PC HP\": 39}, {\"PC Level\": 6, \"Monsters\": 8, \"Difficulty\": \"Easy\", \"Rnds\": 1.35, \"% PC HP\": 7}, {\"PC Level\": 6, \"Monsters\": 8, \"Difficulty\": \"Medium\", \"Rnds\": 1.88, \"% PC HP\": 13}, {\"PC Level\": 6, \"Monsters\": 8, \"Difficulty\": \"Hard\", \"Rnds\": 2.45, \"% PC HP\": 29}, {\"PC Level\": 6, \"Monsters\": 8, \"Difficulty\": \"Deadly\", \"Rnds\": 2.45, \"% PC HP\": 29}, {\"PC Level\": 8, \"Monsters\": 8, \"Difficulty\": \"Easy\", \"Rnds\": 1.67, \"% PC HP\": 9}, {\"PC Level\": 8, \"Monsters\": 8, \"Difficulty\": \"Medium\", \"Rnds\": 2.17, \"% PC HP\": 19}, {\"PC Level\": 8, \"Monsters\": 8, \"Difficulty\": \"Hard\", \"Rnds\": 2.17, \"% PC HP\": 19}, {\"PC Level\": 8, \"Monsters\": 8, \"Difficulty\": \"Deadly\", \"Rnds\": 2.59, \"% PC HP\": 34}, {\"PC Level\": 10, \"Monsters\": 8, \"Difficulty\": \"Easy\", \"Rnds\": 1.26, \"% PC HP\": 5}, {\"PC Level\": 10, \"Monsters\": 8, \"Difficulty\": \"Medium\", \"Rnds\": 1.64, \"% PC HP\": 11}, {\"PC Level\": 10, \"Monsters\": 8, \"Difficulty\": \"Hard\", \"Rnds\": 1.96, \"% PC HP\": 20}, {\"PC Level\": 10, \"Monsters\": 8, \"Difficulty\": \"Deadly\", \"Rnds\": 1.96, \"% PC HP\": 20}]}}, {\"mode\": \"vega-lite\"});\n",
       "</script>"
      ],
      "text/plain": [
       "alt.Chart(...)"
      ]
     },
     "execution_count": 39,
     "metadata": {},
     "output_type": "execute_result"
    }
   ],
   "source": [
    "chart = (alt.Chart(simudata)\n",
    "         .encode(\n",
    "            x = 'Rnds',\n",
    "            y = '% PC HP',\n",
    "            color = 'Difficulty'\n",
    "         )\n",
    "         .mark_circle()\n",
    "         )\n",
    "chart"
   ]
  },
  {
   "cell_type": "code",
   "execution_count": 42,
   "metadata": {},
   "outputs": [
    {
     "data": {
      "text/html": [
       "\n",
       "<div id=\"altair-viz-64138c4672604ad9b14e2aee5bd546e2\"></div>\n",
       "<script type=\"text/javascript\">\n",
       "  (function(spec, embedOpt){\n",
       "    let outputDiv = document.currentScript.previousElementSibling;\n",
       "    if (outputDiv.id !== \"altair-viz-64138c4672604ad9b14e2aee5bd546e2\") {\n",
       "      outputDiv = document.getElementById(\"altair-viz-64138c4672604ad9b14e2aee5bd546e2\");\n",
       "    }\n",
       "    const paths = {\n",
       "      \"vega\": \"https://cdn.jsdelivr.net/npm//vega@5?noext\",\n",
       "      \"vega-lib\": \"https://cdn.jsdelivr.net/npm//vega-lib?noext\",\n",
       "      \"vega-lite\": \"https://cdn.jsdelivr.net/npm//vega-lite@4.8.1?noext\",\n",
       "      \"vega-embed\": \"https://cdn.jsdelivr.net/npm//vega-embed@6?noext\",\n",
       "    };\n",
       "\n",
       "    function loadScript(lib) {\n",
       "      return new Promise(function(resolve, reject) {\n",
       "        var s = document.createElement('script');\n",
       "        s.src = paths[lib];\n",
       "        s.async = true;\n",
       "        s.onload = () => resolve(paths[lib]);\n",
       "        s.onerror = () => reject(`Error loading script: ${paths[lib]}`);\n",
       "        document.getElementsByTagName(\"head\")[0].appendChild(s);\n",
       "      });\n",
       "    }\n",
       "\n",
       "    function showError(err) {\n",
       "      outputDiv.innerHTML = `<div class=\"error\" style=\"color:red;\">${err}</div>`;\n",
       "      throw err;\n",
       "    }\n",
       "\n",
       "    function displayChart(vegaEmbed) {\n",
       "      vegaEmbed(outputDiv, spec, embedOpt)\n",
       "        .catch(err => showError(`Javascript Error: ${err.message}<br>This usually means there's a typo in your chart specification. See the javascript console for the full traceback.`));\n",
       "    }\n",
       "\n",
       "    if(typeof define === \"function\" && define.amd) {\n",
       "      requirejs.config({paths});\n",
       "      require([\"vega-embed\"], displayChart, err => showError(`Error loading script: ${err.message}`));\n",
       "    } else if (typeof vegaEmbed === \"function\") {\n",
       "      displayChart(vegaEmbed);\n",
       "    } else {\n",
       "      loadScript(\"vega\")\n",
       "        .then(() => loadScript(\"vega-lite\"))\n",
       "        .then(() => loadScript(\"vega-embed\"))\n",
       "        .catch(showError)\n",
       "        .then(() => displayChart(vegaEmbed));\n",
       "    }\n",
       "  })({\"config\": {\"view\": {\"continuousWidth\": 400, \"continuousHeight\": 300}}, \"data\": {\"name\": \"data-cf350126cad3bf6f0d038171e693fae6\"}, \"mark\": \"circle\", \"encoding\": {\"color\": {\"type\": \"quantitative\", \"field\": \"Monsters\"}, \"x\": {\"type\": \"quantitative\", \"field\": \"Rnds\"}, \"y\": {\"type\": \"quantitative\", \"field\": \"% PC HP\"}}, \"$schema\": \"https://vega.github.io/schema/vega-lite/v4.8.1.json\", \"datasets\": {\"data-cf350126cad3bf6f0d038171e693fae6\": [{\"PC Level\": 3, \"Monsters\": 1, \"Difficulty\": \"Easy\", \"Rnds\": 2.99, \"% PC HP\": 11}, {\"PC Level\": 3, \"Monsters\": 1, \"Difficulty\": \"Medium\", \"Rnds\": 3.56, \"% PC HP\": 20}, {\"PC Level\": 3, \"Monsters\": 1, \"Difficulty\": \"Hard\", \"Rnds\": 4.14, \"% PC HP\": 34}, {\"PC Level\": 3, \"Monsters\": 1, \"Difficulty\": \"Deadly\", \"Rnds\": 5.09, \"% PC HP\": 57}, {\"PC Level\": 4, \"Monsters\": 1, \"Difficulty\": \"Easy\", \"Rnds\": 2.86, \"% PC HP\": 10}, {\"PC Level\": 4, \"Monsters\": 1, \"Difficulty\": \"Medium\", \"Rnds\": 3.32, \"% PC HP\": 17}, {\"PC Level\": 4, \"Monsters\": 1, \"Difficulty\": \"Hard\", \"Rnds\": 4.07, \"% PC HP\": 29}, {\"PC Level\": 4, \"Monsters\": 1, \"Difficulty\": \"Deadly\", \"Rnds\": 4.93, \"% PC HP\": 47}, {\"PC Level\": 6, \"Monsters\": 1, \"Difficulty\": \"Easy\", \"Rnds\": 2.06, \"% PC HP\": 10}, {\"PC Level\": 6, \"Monsters\": 1, \"Difficulty\": \"Medium\", \"Rnds\": 2.75, \"% PC HP\": 20}, {\"PC Level\": 6, \"Monsters\": 1, \"Difficulty\": \"Hard\", \"Rnds\": 3.02, \"% PC HP\": 25}, {\"PC Level\": 6, \"Monsters\": 1, \"Difficulty\": \"Deadly\", \"Rnds\": 3.83, \"% PC HP\": 44}, {\"PC Level\": 8, \"Monsters\": 1, \"Difficulty\": \"Easy\", \"Rnds\": 2.18, \"% PC HP\": 10}, {\"PC Level\": 8, \"Monsters\": 1, \"Difficulty\": \"Medium\", \"Rnds\": 2.66, \"% PC HP\": 17}, {\"PC Level\": 8, \"Monsters\": 1, \"Difficulty\": \"Hard\", \"Rnds\": 3.36, \"% PC HP\": 29}, {\"PC Level\": 8, \"Monsters\": 1, \"Difficulty\": \"Deadly\", \"Rnds\": 4.45, \"% PC HP\": 54}, {\"PC Level\": 10, \"Monsters\": 1, \"Difficulty\": \"Easy\", \"Rnds\": 1.82, \"% PC HP\": 8}, {\"PC Level\": 10, \"Monsters\": 1, \"Difficulty\": \"Medium\", \"Rnds\": 2.33, \"% PC HP\": 14}, {\"PC Level\": 10, \"Monsters\": 1, \"Difficulty\": \"Hard\", \"Rnds\": 3.11, \"% PC HP\": 27}, {\"PC Level\": 10, \"Monsters\": 1, \"Difficulty\": \"Deadly\", \"Rnds\": 3.81, \"% PC HP\": 39}, {\"PC Level\": 3, \"Monsters\": 2, \"Difficulty\": \"Easy\", \"Rnds\": 4.6, \"% PC HP\": 20}, {\"PC Level\": 3, \"Monsters\": 2, \"Difficulty\": \"Medium\", \"Rnds\": 5.98, \"% PC HP\": 44}, {\"PC Level\": 3, \"Monsters\": 2, \"Difficulty\": \"Hard\", \"Rnds\": 5.98, \"% PC HP\": 44}, {\"PC Level\": 3, \"Monsters\": 2, \"Difficulty\": \"Deadly\", \"Rnds\": 7.13, \"% PC HP\": 78}, {\"PC Level\": 4, \"Monsters\": 2, \"Difficulty\": \"Easy\", \"Rnds\": 3.69, \"% PC HP\": 10}, {\"PC Level\": 4, \"Monsters\": 2, \"Difficulty\": \"Medium\", \"Rnds\": 4.8, \"% PC HP\": 22}, {\"PC Level\": 4, \"Monsters\": 2, \"Difficulty\": \"Hard\", \"Rnds\": 5.72, \"% PC HP\": 39}, {\"PC Level\": 4, \"Monsters\": 2, \"Difficulty\": \"Deadly\", \"Rnds\": 6.65, \"% PC HP\": 68}, {\"PC Level\": 6, \"Monsters\": 2, \"Difficulty\": \"Easy\", \"Rnds\": 2.92, \"% PC HP\": 13}, {\"PC Level\": 6, \"Monsters\": 2, \"Difficulty\": \"Medium\", \"Rnds\": 3.39, \"% PC HP\": 23}, {\"PC Level\": 6, \"Monsters\": 2, \"Difficulty\": \"Hard\", \"Rnds\": 4.12, \"% PC HP\": 39}, {\"PC Level\": 6, \"Monsters\": 2, \"Difficulty\": \"Deadly\", \"Rnds\": 4.96, \"% PC HP\": 62}, {\"PC Level\": 8, \"Monsters\": 2, \"Difficulty\": \"Easy\", \"Rnds\": 3.01, \"% PC HP\": 15}, {\"PC Level\": 8, \"Monsters\": 2, \"Difficulty\": \"Medium\", \"Rnds\": 3.64, \"% PC HP\": 26}, {\"PC Level\": 8, \"Monsters\": 2, \"Difficulty\": \"Hard\", \"Rnds\": 4.37, \"% PC HP\": 41}, {\"PC Level\": 8, \"Monsters\": 2, \"Difficulty\": \"Deadly\", \"Rnds\": 4.84, \"% PC HP\": 53}, {\"PC Level\": 10, \"Monsters\": 2, \"Difficulty\": \"Easy\", \"Rnds\": 2.27, \"% PC HP\": 9}, {\"PC Level\": 10, \"Monsters\": 2, \"Difficulty\": \"Medium\", \"Rnds\": 2.74, \"% PC HP\": 15}, {\"PC Level\": 10, \"Monsters\": 2, \"Difficulty\": \"Hard\", \"Rnds\": 3.64, \"% PC HP\": 31}, {\"PC Level\": 10, \"Monsters\": 2, \"Difficulty\": \"Deadly\", \"Rnds\": 4.65, \"% PC HP\": 56}, {\"PC Level\": 3, \"Monsters\": 3, \"Difficulty\": \"Easy\", \"Rnds\": 3.91, \"% PC HP\": 15}, {\"PC Level\": 3, \"Monsters\": 3, \"Difficulty\": \"Medium\", \"Rnds\": 6.28, \"% PC HP\": 42}, {\"PC Level\": 3, \"Monsters\": 3, \"Difficulty\": \"Hard\", \"Rnds\": 7.59, \"% PC HP\": 60}, {\"PC Level\": 3, \"Monsters\": 3, \"Difficulty\": \"Deadly\", \"Rnds\": 6.86, \"% PC HP\": 58}, {\"PC Level\": 4, \"Monsters\": 3, \"Difficulty\": \"Easy\", \"Rnds\": 3.69, \"% PC HP\": 13}, {\"PC Level\": 4, \"Monsters\": 3, \"Difficulty\": \"Medium\", \"Rnds\": 4.15, \"% PC HP\": 19}, {\"PC Level\": 4, \"Monsters\": 3, \"Difficulty\": \"Hard\", \"Rnds\": 4.62, \"% PC HP\": 29}, {\"PC Level\": 4, \"Monsters\": 3, \"Difficulty\": \"Deadly\", \"Rnds\": 7.02, \"% PC HP\": 55}, {\"PC Level\": 6, \"Monsters\": 3, \"Difficulty\": \"Easy\", \"Rnds\": 2.81, \"% PC HP\": 12}, {\"PC Level\": 6, \"Monsters\": 3, \"Difficulty\": \"Medium\", \"Rnds\": 4.14, \"% PC HP\": 26}, {\"PC Level\": 6, \"Monsters\": 3, \"Difficulty\": \"Hard\", \"Rnds\": 4.47, \"% PC HP\": 34}, {\"PC Level\": 6, \"Monsters\": 3, \"Difficulty\": \"Deadly\", \"Rnds\": 5.31, \"% PC HP\": 64}, {\"PC Level\": 8, \"Monsters\": 3, \"Difficulty\": \"Easy\", \"Rnds\": 3.17, \"% PC HP\": 12}, {\"PC Level\": 8, \"Monsters\": 3, \"Difficulty\": \"Medium\", \"Rnds\": 3.96, \"% PC HP\": 23}, {\"PC Level\": 8, \"Monsters\": 3, \"Difficulty\": \"Hard\", \"Rnds\": 4.7, \"% PC HP\": 43}, {\"PC Level\": 8, \"Monsters\": 3, \"Difficulty\": \"Deadly\", \"Rnds\": 5.35, \"% PC HP\": 56}, {\"PC Level\": 10, \"Monsters\": 3, \"Difficulty\": \"Easy\", \"Rnds\": 2.78, \"% PC HP\": 10}, {\"PC Level\": 10, \"Monsters\": 3, \"Difficulty\": \"Medium\", \"Rnds\": 3.31, \"% PC HP\": 21}, {\"PC Level\": 10, \"Monsters\": 3, \"Difficulty\": \"Hard\", \"Rnds\": 4.03, \"% PC HP\": 33}, {\"PC Level\": 10, \"Monsters\": 3, \"Difficulty\": \"Deadly\", \"Rnds\": 4.45, \"% PC HP\": 45}, {\"PC Level\": 3, \"Monsters\": 4, \"Difficulty\": \"Easy\", \"Rnds\": 1.61, \"% PC HP\": 6}, {\"PC Level\": 3, \"Monsters\": 4, \"Difficulty\": \"Medium\", \"Rnds\": 3.3, \"% PC HP\": 20}, {\"PC Level\": 3, \"Monsters\": 4, \"Difficulty\": \"Hard\", \"Rnds\": 4.6, \"% PC HP\": 39}, {\"PC Level\": 3, \"Monsters\": 4, \"Difficulty\": \"Deadly\", \"Rnds\": 5.98, \"% PC HP\": 87}, {\"PC Level\": 4, \"Monsters\": 4, \"Difficulty\": \"Easy\", \"Rnds\": 2.65, \"% PC HP\": 10}, {\"PC Level\": 4, \"Monsters\": 4, \"Difficulty\": \"Medium\", \"Rnds\": 3.69, \"% PC HP\": 20}, {\"PC Level\": 4, \"Monsters\": 4, \"Difficulty\": \"Hard\", \"Rnds\": 4.8, \"% PC HP\": 44}, {\"PC Level\": 4, \"Monsters\": 4, \"Difficulty\": \"Deadly\", \"Rnds\": 4.8, \"% PC HP\": 44}, {\"PC Level\": 6, \"Monsters\": 4, \"Difficulty\": \"Easy\", \"Rnds\": 1.88, \"% PC HP\": 6}, {\"PC Level\": 6, \"Monsters\": 4, \"Difficulty\": \"Medium\", \"Rnds\": 2.45, \"% PC HP\": 14}, {\"PC Level\": 6, \"Monsters\": 4, \"Difficulty\": \"Hard\", \"Rnds\": 2.92, \"% PC HP\": 26}, {\"PC Level\": 6, \"Monsters\": 4, \"Difficulty\": \"Deadly\", \"Rnds\": 3.39, \"% PC HP\": 45}, {\"PC Level\": 8, \"Monsters\": 4, \"Difficulty\": \"Easy\", \"Rnds\": 2.17, \"% PC HP\": 10}, {\"PC Level\": 8, \"Monsters\": 4, \"Difficulty\": \"Medium\", \"Rnds\": 2.59, \"% PC HP\": 17}, {\"PC Level\": 8, \"Monsters\": 4, \"Difficulty\": \"Hard\", \"Rnds\": 3.01, \"% PC HP\": 30}, {\"PC Level\": 8, \"Monsters\": 4, \"Difficulty\": \"Deadly\", \"Rnds\": 3.64, \"% PC HP\": 51}, {\"PC Level\": 10, \"Monsters\": 4, \"Difficulty\": \"Easy\", \"Rnds\": 1.64, \"% PC HP\": 6}, {\"PC Level\": 10, \"Monsters\": 4, \"Difficulty\": \"Medium\", \"Rnds\": 1.96, \"% PC HP\": 10}, {\"PC Level\": 10, \"Monsters\": 4, \"Difficulty\": \"Hard\", \"Rnds\": 2.27, \"% PC HP\": 18}, {\"PC Level\": 10, \"Monsters\": 4, \"Difficulty\": \"Deadly\", \"Rnds\": 2.74, \"% PC HP\": 30}, {\"PC Level\": 3, \"Monsters\": 8, \"Difficulty\": \"Easy\", \"Rnds\": 0.31, \"% PC HP\": 1}, {\"PC Level\": 3, \"Monsters\": 8, \"Difficulty\": \"Medium\", \"Rnds\": 1.61, \"% PC HP\": 12}, {\"PC Level\": 3, \"Monsters\": 8, \"Difficulty\": \"Hard\", \"Rnds\": 3.3, \"% PC HP\": 40}, {\"PC Level\": 3, \"Monsters\": 8, \"Difficulty\": \"Deadly\", \"Rnds\": 3.3, \"% PC HP\": 40}, {\"PC Level\": 4, \"Monsters\": 8, \"Difficulty\": \"Easy\", \"Rnds\": 1.29, \"% PC HP\": 6}, {\"PC Level\": 4, \"Monsters\": 8, \"Difficulty\": \"Medium\", \"Rnds\": 2.65, \"% PC HP\": 20}, {\"PC Level\": 4, \"Monsters\": 8, \"Difficulty\": \"Hard\", \"Rnds\": 2.65, \"% PC HP\": 20}, {\"PC Level\": 4, \"Monsters\": 8, \"Difficulty\": \"Deadly\", \"Rnds\": 3.69, \"% PC HP\": 39}, {\"PC Level\": 6, \"Monsters\": 8, \"Difficulty\": \"Easy\", \"Rnds\": 1.35, \"% PC HP\": 7}, {\"PC Level\": 6, \"Monsters\": 8, \"Difficulty\": \"Medium\", \"Rnds\": 1.88, \"% PC HP\": 13}, {\"PC Level\": 6, \"Monsters\": 8, \"Difficulty\": \"Hard\", \"Rnds\": 2.45, \"% PC HP\": 29}, {\"PC Level\": 6, \"Monsters\": 8, \"Difficulty\": \"Deadly\", \"Rnds\": 2.45, \"% PC HP\": 29}, {\"PC Level\": 8, \"Monsters\": 8, \"Difficulty\": \"Easy\", \"Rnds\": 1.67, \"% PC HP\": 9}, {\"PC Level\": 8, \"Monsters\": 8, \"Difficulty\": \"Medium\", \"Rnds\": 2.17, \"% PC HP\": 19}, {\"PC Level\": 8, \"Monsters\": 8, \"Difficulty\": \"Hard\", \"Rnds\": 2.17, \"% PC HP\": 19}, {\"PC Level\": 8, \"Monsters\": 8, \"Difficulty\": \"Deadly\", \"Rnds\": 2.59, \"% PC HP\": 34}, {\"PC Level\": 10, \"Monsters\": 8, \"Difficulty\": \"Easy\", \"Rnds\": 1.26, \"% PC HP\": 5}, {\"PC Level\": 10, \"Monsters\": 8, \"Difficulty\": \"Medium\", \"Rnds\": 1.64, \"% PC HP\": 11}, {\"PC Level\": 10, \"Monsters\": 8, \"Difficulty\": \"Hard\", \"Rnds\": 1.96, \"% PC HP\": 20}, {\"PC Level\": 10, \"Monsters\": 8, \"Difficulty\": \"Deadly\", \"Rnds\": 1.96, \"% PC HP\": 20}]}}, {\"mode\": \"vega-lite\"});\n",
       "</script>"
      ],
      "text/plain": [
       "alt.Chart(...)"
      ]
     },
     "execution_count": 42,
     "metadata": {},
     "output_type": "execute_result"
    }
   ],
   "source": [
    "chart = (alt.Chart(simudata)\n",
    "         .encode(\n",
    "            x = 'Rnds',\n",
    "            y = '% PC HP',\n",
    "            color = 'Monsters'\n",
    "         )\n",
    "         .mark_circle()\n",
    "         )\n",
    "chart"
   ]
  },
  {
   "cell_type": "code",
   "execution_count": 43,
   "metadata": {},
   "outputs": [
    {
     "data": {
      "text/html": [
       "\n",
       "<div id=\"altair-viz-6dbd36d2cb094695abd5f781203ac107\"></div>\n",
       "<script type=\"text/javascript\">\n",
       "  (function(spec, embedOpt){\n",
       "    let outputDiv = document.currentScript.previousElementSibling;\n",
       "    if (outputDiv.id !== \"altair-viz-6dbd36d2cb094695abd5f781203ac107\") {\n",
       "      outputDiv = document.getElementById(\"altair-viz-6dbd36d2cb094695abd5f781203ac107\");\n",
       "    }\n",
       "    const paths = {\n",
       "      \"vega\": \"https://cdn.jsdelivr.net/npm//vega@5?noext\",\n",
       "      \"vega-lib\": \"https://cdn.jsdelivr.net/npm//vega-lib?noext\",\n",
       "      \"vega-lite\": \"https://cdn.jsdelivr.net/npm//vega-lite@4.8.1?noext\",\n",
       "      \"vega-embed\": \"https://cdn.jsdelivr.net/npm//vega-embed@6?noext\",\n",
       "    };\n",
       "\n",
       "    function loadScript(lib) {\n",
       "      return new Promise(function(resolve, reject) {\n",
       "        var s = document.createElement('script');\n",
       "        s.src = paths[lib];\n",
       "        s.async = true;\n",
       "        s.onload = () => resolve(paths[lib]);\n",
       "        s.onerror = () => reject(`Error loading script: ${paths[lib]}`);\n",
       "        document.getElementsByTagName(\"head\")[0].appendChild(s);\n",
       "      });\n",
       "    }\n",
       "\n",
       "    function showError(err) {\n",
       "      outputDiv.innerHTML = `<div class=\"error\" style=\"color:red;\">${err}</div>`;\n",
       "      throw err;\n",
       "    }\n",
       "\n",
       "    function displayChart(vegaEmbed) {\n",
       "      vegaEmbed(outputDiv, spec, embedOpt)\n",
       "        .catch(err => showError(`Javascript Error: ${err.message}<br>This usually means there's a typo in your chart specification. See the javascript console for the full traceback.`));\n",
       "    }\n",
       "\n",
       "    if(typeof define === \"function\" && define.amd) {\n",
       "      requirejs.config({paths});\n",
       "      require([\"vega-embed\"], displayChart, err => showError(`Error loading script: ${err.message}`));\n",
       "    } else if (typeof vegaEmbed === \"function\") {\n",
       "      displayChart(vegaEmbed);\n",
       "    } else {\n",
       "      loadScript(\"vega\")\n",
       "        .then(() => loadScript(\"vega-lite\"))\n",
       "        .then(() => loadScript(\"vega-embed\"))\n",
       "        .catch(showError)\n",
       "        .then(() => displayChart(vegaEmbed));\n",
       "    }\n",
       "  })({\"config\": {\"view\": {\"continuousWidth\": 400, \"continuousHeight\": 300}}, \"data\": {\"name\": \"data-cf350126cad3bf6f0d038171e693fae6\"}, \"mark\": \"circle\", \"encoding\": {\"color\": {\"type\": \"quantitative\", \"field\": \"PC Level\"}, \"x\": {\"type\": \"quantitative\", \"field\": \"Rnds\"}, \"y\": {\"type\": \"quantitative\", \"field\": \"% PC HP\"}}, \"$schema\": \"https://vega.github.io/schema/vega-lite/v4.8.1.json\", \"datasets\": {\"data-cf350126cad3bf6f0d038171e693fae6\": [{\"PC Level\": 3, \"Monsters\": 1, \"Difficulty\": \"Easy\", \"Rnds\": 2.99, \"% PC HP\": 11}, {\"PC Level\": 3, \"Monsters\": 1, \"Difficulty\": \"Medium\", \"Rnds\": 3.56, \"% PC HP\": 20}, {\"PC Level\": 3, \"Monsters\": 1, \"Difficulty\": \"Hard\", \"Rnds\": 4.14, \"% PC HP\": 34}, {\"PC Level\": 3, \"Monsters\": 1, \"Difficulty\": \"Deadly\", \"Rnds\": 5.09, \"% PC HP\": 57}, {\"PC Level\": 4, \"Monsters\": 1, \"Difficulty\": \"Easy\", \"Rnds\": 2.86, \"% PC HP\": 10}, {\"PC Level\": 4, \"Monsters\": 1, \"Difficulty\": \"Medium\", \"Rnds\": 3.32, \"% PC HP\": 17}, {\"PC Level\": 4, \"Monsters\": 1, \"Difficulty\": \"Hard\", \"Rnds\": 4.07, \"% PC HP\": 29}, {\"PC Level\": 4, \"Monsters\": 1, \"Difficulty\": \"Deadly\", \"Rnds\": 4.93, \"% PC HP\": 47}, {\"PC Level\": 6, \"Monsters\": 1, \"Difficulty\": \"Easy\", \"Rnds\": 2.06, \"% PC HP\": 10}, {\"PC Level\": 6, \"Monsters\": 1, \"Difficulty\": \"Medium\", \"Rnds\": 2.75, \"% PC HP\": 20}, {\"PC Level\": 6, \"Monsters\": 1, \"Difficulty\": \"Hard\", \"Rnds\": 3.02, \"% PC HP\": 25}, {\"PC Level\": 6, \"Monsters\": 1, \"Difficulty\": \"Deadly\", \"Rnds\": 3.83, \"% PC HP\": 44}, {\"PC Level\": 8, \"Monsters\": 1, \"Difficulty\": \"Easy\", \"Rnds\": 2.18, \"% PC HP\": 10}, {\"PC Level\": 8, \"Monsters\": 1, \"Difficulty\": \"Medium\", \"Rnds\": 2.66, \"% PC HP\": 17}, {\"PC Level\": 8, \"Monsters\": 1, \"Difficulty\": \"Hard\", \"Rnds\": 3.36, \"% PC HP\": 29}, {\"PC Level\": 8, \"Monsters\": 1, \"Difficulty\": \"Deadly\", \"Rnds\": 4.45, \"% PC HP\": 54}, {\"PC Level\": 10, \"Monsters\": 1, \"Difficulty\": \"Easy\", \"Rnds\": 1.82, \"% PC HP\": 8}, {\"PC Level\": 10, \"Monsters\": 1, \"Difficulty\": \"Medium\", \"Rnds\": 2.33, \"% PC HP\": 14}, {\"PC Level\": 10, \"Monsters\": 1, \"Difficulty\": \"Hard\", \"Rnds\": 3.11, \"% PC HP\": 27}, {\"PC Level\": 10, \"Monsters\": 1, \"Difficulty\": \"Deadly\", \"Rnds\": 3.81, \"% PC HP\": 39}, {\"PC Level\": 3, \"Monsters\": 2, \"Difficulty\": \"Easy\", \"Rnds\": 4.6, \"% PC HP\": 20}, {\"PC Level\": 3, \"Monsters\": 2, \"Difficulty\": \"Medium\", \"Rnds\": 5.98, \"% PC HP\": 44}, {\"PC Level\": 3, \"Monsters\": 2, \"Difficulty\": \"Hard\", \"Rnds\": 5.98, \"% PC HP\": 44}, {\"PC Level\": 3, \"Monsters\": 2, \"Difficulty\": \"Deadly\", \"Rnds\": 7.13, \"% PC HP\": 78}, {\"PC Level\": 4, \"Monsters\": 2, \"Difficulty\": \"Easy\", \"Rnds\": 3.69, \"% PC HP\": 10}, {\"PC Level\": 4, \"Monsters\": 2, \"Difficulty\": \"Medium\", \"Rnds\": 4.8, \"% PC HP\": 22}, {\"PC Level\": 4, \"Monsters\": 2, \"Difficulty\": \"Hard\", \"Rnds\": 5.72, \"% PC HP\": 39}, {\"PC Level\": 4, \"Monsters\": 2, \"Difficulty\": \"Deadly\", \"Rnds\": 6.65, \"% PC HP\": 68}, {\"PC Level\": 6, \"Monsters\": 2, \"Difficulty\": \"Easy\", \"Rnds\": 2.92, \"% PC HP\": 13}, {\"PC Level\": 6, \"Monsters\": 2, \"Difficulty\": \"Medium\", \"Rnds\": 3.39, \"% PC HP\": 23}, {\"PC Level\": 6, \"Monsters\": 2, \"Difficulty\": \"Hard\", \"Rnds\": 4.12, \"% PC HP\": 39}, {\"PC Level\": 6, \"Monsters\": 2, \"Difficulty\": \"Deadly\", \"Rnds\": 4.96, \"% PC HP\": 62}, {\"PC Level\": 8, \"Monsters\": 2, \"Difficulty\": \"Easy\", \"Rnds\": 3.01, \"% PC HP\": 15}, {\"PC Level\": 8, \"Monsters\": 2, \"Difficulty\": \"Medium\", \"Rnds\": 3.64, \"% PC HP\": 26}, {\"PC Level\": 8, \"Monsters\": 2, \"Difficulty\": \"Hard\", \"Rnds\": 4.37, \"% PC HP\": 41}, {\"PC Level\": 8, \"Monsters\": 2, \"Difficulty\": \"Deadly\", \"Rnds\": 4.84, \"% PC HP\": 53}, {\"PC Level\": 10, \"Monsters\": 2, \"Difficulty\": \"Easy\", \"Rnds\": 2.27, \"% PC HP\": 9}, {\"PC Level\": 10, \"Monsters\": 2, \"Difficulty\": \"Medium\", \"Rnds\": 2.74, \"% PC HP\": 15}, {\"PC Level\": 10, \"Monsters\": 2, \"Difficulty\": \"Hard\", \"Rnds\": 3.64, \"% PC HP\": 31}, {\"PC Level\": 10, \"Monsters\": 2, \"Difficulty\": \"Deadly\", \"Rnds\": 4.65, \"% PC HP\": 56}, {\"PC Level\": 3, \"Monsters\": 3, \"Difficulty\": \"Easy\", \"Rnds\": 3.91, \"% PC HP\": 15}, {\"PC Level\": 3, \"Monsters\": 3, \"Difficulty\": \"Medium\", \"Rnds\": 6.28, \"% PC HP\": 42}, {\"PC Level\": 3, \"Monsters\": 3, \"Difficulty\": \"Hard\", \"Rnds\": 7.59, \"% PC HP\": 60}, {\"PC Level\": 3, \"Monsters\": 3, \"Difficulty\": \"Deadly\", \"Rnds\": 6.86, \"% PC HP\": 58}, {\"PC Level\": 4, \"Monsters\": 3, \"Difficulty\": \"Easy\", \"Rnds\": 3.69, \"% PC HP\": 13}, {\"PC Level\": 4, \"Monsters\": 3, \"Difficulty\": \"Medium\", \"Rnds\": 4.15, \"% PC HP\": 19}, {\"PC Level\": 4, \"Monsters\": 3, \"Difficulty\": \"Hard\", \"Rnds\": 4.62, \"% PC HP\": 29}, {\"PC Level\": 4, \"Monsters\": 3, \"Difficulty\": \"Deadly\", \"Rnds\": 7.02, \"% PC HP\": 55}, {\"PC Level\": 6, \"Monsters\": 3, \"Difficulty\": \"Easy\", \"Rnds\": 2.81, \"% PC HP\": 12}, {\"PC Level\": 6, \"Monsters\": 3, \"Difficulty\": \"Medium\", \"Rnds\": 4.14, \"% PC HP\": 26}, {\"PC Level\": 6, \"Monsters\": 3, \"Difficulty\": \"Hard\", \"Rnds\": 4.47, \"% PC HP\": 34}, {\"PC Level\": 6, \"Monsters\": 3, \"Difficulty\": \"Deadly\", \"Rnds\": 5.31, \"% PC HP\": 64}, {\"PC Level\": 8, \"Monsters\": 3, \"Difficulty\": \"Easy\", \"Rnds\": 3.17, \"% PC HP\": 12}, {\"PC Level\": 8, \"Monsters\": 3, \"Difficulty\": \"Medium\", \"Rnds\": 3.96, \"% PC HP\": 23}, {\"PC Level\": 8, \"Monsters\": 3, \"Difficulty\": \"Hard\", \"Rnds\": 4.7, \"% PC HP\": 43}, {\"PC Level\": 8, \"Monsters\": 3, \"Difficulty\": \"Deadly\", \"Rnds\": 5.35, \"% PC HP\": 56}, {\"PC Level\": 10, \"Monsters\": 3, \"Difficulty\": \"Easy\", \"Rnds\": 2.78, \"% PC HP\": 10}, {\"PC Level\": 10, \"Monsters\": 3, \"Difficulty\": \"Medium\", \"Rnds\": 3.31, \"% PC HP\": 21}, {\"PC Level\": 10, \"Monsters\": 3, \"Difficulty\": \"Hard\", \"Rnds\": 4.03, \"% PC HP\": 33}, {\"PC Level\": 10, \"Monsters\": 3, \"Difficulty\": \"Deadly\", \"Rnds\": 4.45, \"% PC HP\": 45}, {\"PC Level\": 3, \"Monsters\": 4, \"Difficulty\": \"Easy\", \"Rnds\": 1.61, \"% PC HP\": 6}, {\"PC Level\": 3, \"Monsters\": 4, \"Difficulty\": \"Medium\", \"Rnds\": 3.3, \"% PC HP\": 20}, {\"PC Level\": 3, \"Monsters\": 4, \"Difficulty\": \"Hard\", \"Rnds\": 4.6, \"% PC HP\": 39}, {\"PC Level\": 3, \"Monsters\": 4, \"Difficulty\": \"Deadly\", \"Rnds\": 5.98, \"% PC HP\": 87}, {\"PC Level\": 4, \"Monsters\": 4, \"Difficulty\": \"Easy\", \"Rnds\": 2.65, \"% PC HP\": 10}, {\"PC Level\": 4, \"Monsters\": 4, \"Difficulty\": \"Medium\", \"Rnds\": 3.69, \"% PC HP\": 20}, {\"PC Level\": 4, \"Monsters\": 4, \"Difficulty\": \"Hard\", \"Rnds\": 4.8, \"% PC HP\": 44}, {\"PC Level\": 4, \"Monsters\": 4, \"Difficulty\": \"Deadly\", \"Rnds\": 4.8, \"% PC HP\": 44}, {\"PC Level\": 6, \"Monsters\": 4, \"Difficulty\": \"Easy\", \"Rnds\": 1.88, \"% PC HP\": 6}, {\"PC Level\": 6, \"Monsters\": 4, \"Difficulty\": \"Medium\", \"Rnds\": 2.45, \"% PC HP\": 14}, {\"PC Level\": 6, \"Monsters\": 4, \"Difficulty\": \"Hard\", \"Rnds\": 2.92, \"% PC HP\": 26}, {\"PC Level\": 6, \"Monsters\": 4, \"Difficulty\": \"Deadly\", \"Rnds\": 3.39, \"% PC HP\": 45}, {\"PC Level\": 8, \"Monsters\": 4, \"Difficulty\": \"Easy\", \"Rnds\": 2.17, \"% PC HP\": 10}, {\"PC Level\": 8, \"Monsters\": 4, \"Difficulty\": \"Medium\", \"Rnds\": 2.59, \"% PC HP\": 17}, {\"PC Level\": 8, \"Monsters\": 4, \"Difficulty\": \"Hard\", \"Rnds\": 3.01, \"% PC HP\": 30}, {\"PC Level\": 8, \"Monsters\": 4, \"Difficulty\": \"Deadly\", \"Rnds\": 3.64, \"% PC HP\": 51}, {\"PC Level\": 10, \"Monsters\": 4, \"Difficulty\": \"Easy\", \"Rnds\": 1.64, \"% PC HP\": 6}, {\"PC Level\": 10, \"Monsters\": 4, \"Difficulty\": \"Medium\", \"Rnds\": 1.96, \"% PC HP\": 10}, {\"PC Level\": 10, \"Monsters\": 4, \"Difficulty\": \"Hard\", \"Rnds\": 2.27, \"% PC HP\": 18}, {\"PC Level\": 10, \"Monsters\": 4, \"Difficulty\": \"Deadly\", \"Rnds\": 2.74, \"% PC HP\": 30}, {\"PC Level\": 3, \"Monsters\": 8, \"Difficulty\": \"Easy\", \"Rnds\": 0.31, \"% PC HP\": 1}, {\"PC Level\": 3, \"Monsters\": 8, \"Difficulty\": \"Medium\", \"Rnds\": 1.61, \"% PC HP\": 12}, {\"PC Level\": 3, \"Monsters\": 8, \"Difficulty\": \"Hard\", \"Rnds\": 3.3, \"% PC HP\": 40}, {\"PC Level\": 3, \"Monsters\": 8, \"Difficulty\": \"Deadly\", \"Rnds\": 3.3, \"% PC HP\": 40}, {\"PC Level\": 4, \"Monsters\": 8, \"Difficulty\": \"Easy\", \"Rnds\": 1.29, \"% PC HP\": 6}, {\"PC Level\": 4, \"Monsters\": 8, \"Difficulty\": \"Medium\", \"Rnds\": 2.65, \"% PC HP\": 20}, {\"PC Level\": 4, \"Monsters\": 8, \"Difficulty\": \"Hard\", \"Rnds\": 2.65, \"% PC HP\": 20}, {\"PC Level\": 4, \"Monsters\": 8, \"Difficulty\": \"Deadly\", \"Rnds\": 3.69, \"% PC HP\": 39}, {\"PC Level\": 6, \"Monsters\": 8, \"Difficulty\": \"Easy\", \"Rnds\": 1.35, \"% PC HP\": 7}, {\"PC Level\": 6, \"Monsters\": 8, \"Difficulty\": \"Medium\", \"Rnds\": 1.88, \"% PC HP\": 13}, {\"PC Level\": 6, \"Monsters\": 8, \"Difficulty\": \"Hard\", \"Rnds\": 2.45, \"% PC HP\": 29}, {\"PC Level\": 6, \"Monsters\": 8, \"Difficulty\": \"Deadly\", \"Rnds\": 2.45, \"% PC HP\": 29}, {\"PC Level\": 8, \"Monsters\": 8, \"Difficulty\": \"Easy\", \"Rnds\": 1.67, \"% PC HP\": 9}, {\"PC Level\": 8, \"Monsters\": 8, \"Difficulty\": \"Medium\", \"Rnds\": 2.17, \"% PC HP\": 19}, {\"PC Level\": 8, \"Monsters\": 8, \"Difficulty\": \"Hard\", \"Rnds\": 2.17, \"% PC HP\": 19}, {\"PC Level\": 8, \"Monsters\": 8, \"Difficulty\": \"Deadly\", \"Rnds\": 2.59, \"% PC HP\": 34}, {\"PC Level\": 10, \"Monsters\": 8, \"Difficulty\": \"Easy\", \"Rnds\": 1.26, \"% PC HP\": 5}, {\"PC Level\": 10, \"Monsters\": 8, \"Difficulty\": \"Medium\", \"Rnds\": 1.64, \"% PC HP\": 11}, {\"PC Level\": 10, \"Monsters\": 8, \"Difficulty\": \"Hard\", \"Rnds\": 1.96, \"% PC HP\": 20}, {\"PC Level\": 10, \"Monsters\": 8, \"Difficulty\": \"Deadly\", \"Rnds\": 1.96, \"% PC HP\": 20}]}}, {\"mode\": \"vega-lite\"});\n",
       "</script>"
      ],
      "text/plain": [
       "alt.Chart(...)"
      ]
     },
     "execution_count": 43,
     "metadata": {},
     "output_type": "execute_result"
    }
   ],
   "source": [
    "chart = (alt.Chart(simudata)\n",
    "         .encode(\n",
    "            x = 'Rnds',\n",
    "            y = '% PC HP',\n",
    "            color = 'PC Level'\n",
    "         )\n",
    "         .mark_circle()\n",
    "         )\n",
    "chart"
   ]
  },
  {
   "cell_type": "code",
   "execution_count": 47,
   "metadata": {},
   "outputs": [
    {
     "name": "stderr",
     "output_type": "stream",
     "text": [
      "c:\\Users\\marsh\\AppData\\Local\\Programs\\Python\\Python39\\lib\\site-packages\\altair\\utils\\core.py:283: FutureWarning: iteritems is deprecated and will be removed in a future version. Use .items instead.\n",
      "  for col_name, dtype in df.dtypes.iteritems():\n"
     ]
    },
    {
     "data": {
      "text/html": [
       "\n",
       "<div id=\"altair-viz-53728aaa6b784f91ab555be908abdec8\"></div>\n",
       "<script type=\"text/javascript\">\n",
       "  (function(spec, embedOpt){\n",
       "    let outputDiv = document.currentScript.previousElementSibling;\n",
       "    if (outputDiv.id !== \"altair-viz-53728aaa6b784f91ab555be908abdec8\") {\n",
       "      outputDiv = document.getElementById(\"altair-viz-53728aaa6b784f91ab555be908abdec8\");\n",
       "    }\n",
       "    const paths = {\n",
       "      \"vega\": \"https://cdn.jsdelivr.net/npm//vega@5?noext\",\n",
       "      \"vega-lib\": \"https://cdn.jsdelivr.net/npm//vega-lib?noext\",\n",
       "      \"vega-lite\": \"https://cdn.jsdelivr.net/npm//vega-lite@4.8.1?noext\",\n",
       "      \"vega-embed\": \"https://cdn.jsdelivr.net/npm//vega-embed@6?noext\",\n",
       "    };\n",
       "\n",
       "    function loadScript(lib) {\n",
       "      return new Promise(function(resolve, reject) {\n",
       "        var s = document.createElement('script');\n",
       "        s.src = paths[lib];\n",
       "        s.async = true;\n",
       "        s.onload = () => resolve(paths[lib]);\n",
       "        s.onerror = () => reject(`Error loading script: ${paths[lib]}`);\n",
       "        document.getElementsByTagName(\"head\")[0].appendChild(s);\n",
       "      });\n",
       "    }\n",
       "\n",
       "    function showError(err) {\n",
       "      outputDiv.innerHTML = `<div class=\"error\" style=\"color:red;\">${err}</div>`;\n",
       "      throw err;\n",
       "    }\n",
       "\n",
       "    function displayChart(vegaEmbed) {\n",
       "      vegaEmbed(outputDiv, spec, embedOpt)\n",
       "        .catch(err => showError(`Javascript Error: ${err.message}<br>This usually means there's a typo in your chart specification. See the javascript console for the full traceback.`));\n",
       "    }\n",
       "\n",
       "    if(typeof define === \"function\" && define.amd) {\n",
       "      requirejs.config({paths});\n",
       "      require([\"vega-embed\"], displayChart, err => showError(`Error loading script: ${err.message}`));\n",
       "    } else if (typeof vegaEmbed === \"function\") {\n",
       "      displayChart(vegaEmbed);\n",
       "    } else {\n",
       "      loadScript(\"vega\")\n",
       "        .then(() => loadScript(\"vega-lite\"))\n",
       "        .then(() => loadScript(\"vega-embed\"))\n",
       "        .catch(showError)\n",
       "        .then(() => displayChart(vegaEmbed));\n",
       "    }\n",
       "  })({\"config\": {\"view\": {\"continuousWidth\": 400, \"continuousHeight\": 300}}, \"data\": {\"name\": \"data-cf350126cad3bf6f0d038171e693fae6\"}, \"mark\": \"boxplot\", \"encoding\": {\"color\": {\"type\": \"nominal\", \"field\": \"Difficulty\"}, \"x\": {\"type\": \"quantitative\", \"field\": \"Rnds\"}, \"y\": {\"type\": \"nominal\", \"field\": \"Difficulty\"}}, \"$schema\": \"https://vega.github.io/schema/vega-lite/v4.8.1.json\", \"datasets\": {\"data-cf350126cad3bf6f0d038171e693fae6\": [{\"PC Level\": 3, \"Monsters\": 1, \"Difficulty\": \"Easy\", \"Rnds\": 2.99, \"% PC HP\": 11}, {\"PC Level\": 3, \"Monsters\": 1, \"Difficulty\": \"Medium\", \"Rnds\": 3.56, \"% PC HP\": 20}, {\"PC Level\": 3, \"Monsters\": 1, \"Difficulty\": \"Hard\", \"Rnds\": 4.14, \"% PC HP\": 34}, {\"PC Level\": 3, \"Monsters\": 1, \"Difficulty\": \"Deadly\", \"Rnds\": 5.09, \"% PC HP\": 57}, {\"PC Level\": 4, \"Monsters\": 1, \"Difficulty\": \"Easy\", \"Rnds\": 2.86, \"% PC HP\": 10}, {\"PC Level\": 4, \"Monsters\": 1, \"Difficulty\": \"Medium\", \"Rnds\": 3.32, \"% PC HP\": 17}, {\"PC Level\": 4, \"Monsters\": 1, \"Difficulty\": \"Hard\", \"Rnds\": 4.07, \"% PC HP\": 29}, {\"PC Level\": 4, \"Monsters\": 1, \"Difficulty\": \"Deadly\", \"Rnds\": 4.93, \"% PC HP\": 47}, {\"PC Level\": 6, \"Monsters\": 1, \"Difficulty\": \"Easy\", \"Rnds\": 2.06, \"% PC HP\": 10}, {\"PC Level\": 6, \"Monsters\": 1, \"Difficulty\": \"Medium\", \"Rnds\": 2.75, \"% PC HP\": 20}, {\"PC Level\": 6, \"Monsters\": 1, \"Difficulty\": \"Hard\", \"Rnds\": 3.02, \"% PC HP\": 25}, {\"PC Level\": 6, \"Monsters\": 1, \"Difficulty\": \"Deadly\", \"Rnds\": 3.83, \"% PC HP\": 44}, {\"PC Level\": 8, \"Monsters\": 1, \"Difficulty\": \"Easy\", \"Rnds\": 2.18, \"% PC HP\": 10}, {\"PC Level\": 8, \"Monsters\": 1, \"Difficulty\": \"Medium\", \"Rnds\": 2.66, \"% PC HP\": 17}, {\"PC Level\": 8, \"Monsters\": 1, \"Difficulty\": \"Hard\", \"Rnds\": 3.36, \"% PC HP\": 29}, {\"PC Level\": 8, \"Monsters\": 1, \"Difficulty\": \"Deadly\", \"Rnds\": 4.45, \"% PC HP\": 54}, {\"PC Level\": 10, \"Monsters\": 1, \"Difficulty\": \"Easy\", \"Rnds\": 1.82, \"% PC HP\": 8}, {\"PC Level\": 10, \"Monsters\": 1, \"Difficulty\": \"Medium\", \"Rnds\": 2.33, \"% PC HP\": 14}, {\"PC Level\": 10, \"Monsters\": 1, \"Difficulty\": \"Hard\", \"Rnds\": 3.11, \"% PC HP\": 27}, {\"PC Level\": 10, \"Monsters\": 1, \"Difficulty\": \"Deadly\", \"Rnds\": 3.81, \"% PC HP\": 39}, {\"PC Level\": 3, \"Monsters\": 2, \"Difficulty\": \"Easy\", \"Rnds\": 4.6, \"% PC HP\": 20}, {\"PC Level\": 3, \"Monsters\": 2, \"Difficulty\": \"Medium\", \"Rnds\": 5.98, \"% PC HP\": 44}, {\"PC Level\": 3, \"Monsters\": 2, \"Difficulty\": \"Hard\", \"Rnds\": 5.98, \"% PC HP\": 44}, {\"PC Level\": 3, \"Monsters\": 2, \"Difficulty\": \"Deadly\", \"Rnds\": 7.13, \"% PC HP\": 78}, {\"PC Level\": 4, \"Monsters\": 2, \"Difficulty\": \"Easy\", \"Rnds\": 3.69, \"% PC HP\": 10}, {\"PC Level\": 4, \"Monsters\": 2, \"Difficulty\": \"Medium\", \"Rnds\": 4.8, \"% PC HP\": 22}, {\"PC Level\": 4, \"Monsters\": 2, \"Difficulty\": \"Hard\", \"Rnds\": 5.72, \"% PC HP\": 39}, {\"PC Level\": 4, \"Monsters\": 2, \"Difficulty\": \"Deadly\", \"Rnds\": 6.65, \"% PC HP\": 68}, {\"PC Level\": 6, \"Monsters\": 2, \"Difficulty\": \"Easy\", \"Rnds\": 2.92, \"% PC HP\": 13}, {\"PC Level\": 6, \"Monsters\": 2, \"Difficulty\": \"Medium\", \"Rnds\": 3.39, \"% PC HP\": 23}, {\"PC Level\": 6, \"Monsters\": 2, \"Difficulty\": \"Hard\", \"Rnds\": 4.12, \"% PC HP\": 39}, {\"PC Level\": 6, \"Monsters\": 2, \"Difficulty\": \"Deadly\", \"Rnds\": 4.96, \"% PC HP\": 62}, {\"PC Level\": 8, \"Monsters\": 2, \"Difficulty\": \"Easy\", \"Rnds\": 3.01, \"% PC HP\": 15}, {\"PC Level\": 8, \"Monsters\": 2, \"Difficulty\": \"Medium\", \"Rnds\": 3.64, \"% PC HP\": 26}, {\"PC Level\": 8, \"Monsters\": 2, \"Difficulty\": \"Hard\", \"Rnds\": 4.37, \"% PC HP\": 41}, {\"PC Level\": 8, \"Monsters\": 2, \"Difficulty\": \"Deadly\", \"Rnds\": 4.84, \"% PC HP\": 53}, {\"PC Level\": 10, \"Monsters\": 2, \"Difficulty\": \"Easy\", \"Rnds\": 2.27, \"% PC HP\": 9}, {\"PC Level\": 10, \"Monsters\": 2, \"Difficulty\": \"Medium\", \"Rnds\": 2.74, \"% PC HP\": 15}, {\"PC Level\": 10, \"Monsters\": 2, \"Difficulty\": \"Hard\", \"Rnds\": 3.64, \"% PC HP\": 31}, {\"PC Level\": 10, \"Monsters\": 2, \"Difficulty\": \"Deadly\", \"Rnds\": 4.65, \"% PC HP\": 56}, {\"PC Level\": 3, \"Monsters\": 3, \"Difficulty\": \"Easy\", \"Rnds\": 3.91, \"% PC HP\": 15}, {\"PC Level\": 3, \"Monsters\": 3, \"Difficulty\": \"Medium\", \"Rnds\": 6.28, \"% PC HP\": 42}, {\"PC Level\": 3, \"Monsters\": 3, \"Difficulty\": \"Hard\", \"Rnds\": 7.59, \"% PC HP\": 60}, {\"PC Level\": 3, \"Monsters\": 3, \"Difficulty\": \"Deadly\", \"Rnds\": 6.86, \"% PC HP\": 58}, {\"PC Level\": 4, \"Monsters\": 3, \"Difficulty\": \"Easy\", \"Rnds\": 3.69, \"% PC HP\": 13}, {\"PC Level\": 4, \"Monsters\": 3, \"Difficulty\": \"Medium\", \"Rnds\": 4.15, \"% PC HP\": 19}, {\"PC Level\": 4, \"Monsters\": 3, \"Difficulty\": \"Hard\", \"Rnds\": 4.62, \"% PC HP\": 29}, {\"PC Level\": 4, \"Monsters\": 3, \"Difficulty\": \"Deadly\", \"Rnds\": 7.02, \"% PC HP\": 55}, {\"PC Level\": 6, \"Monsters\": 3, \"Difficulty\": \"Easy\", \"Rnds\": 2.81, \"% PC HP\": 12}, {\"PC Level\": 6, \"Monsters\": 3, \"Difficulty\": \"Medium\", \"Rnds\": 4.14, \"% PC HP\": 26}, {\"PC Level\": 6, \"Monsters\": 3, \"Difficulty\": \"Hard\", \"Rnds\": 4.47, \"% PC HP\": 34}, {\"PC Level\": 6, \"Monsters\": 3, \"Difficulty\": \"Deadly\", \"Rnds\": 5.31, \"% PC HP\": 64}, {\"PC Level\": 8, \"Monsters\": 3, \"Difficulty\": \"Easy\", \"Rnds\": 3.17, \"% PC HP\": 12}, {\"PC Level\": 8, \"Monsters\": 3, \"Difficulty\": \"Medium\", \"Rnds\": 3.96, \"% PC HP\": 23}, {\"PC Level\": 8, \"Monsters\": 3, \"Difficulty\": \"Hard\", \"Rnds\": 4.7, \"% PC HP\": 43}, {\"PC Level\": 8, \"Monsters\": 3, \"Difficulty\": \"Deadly\", \"Rnds\": 5.35, \"% PC HP\": 56}, {\"PC Level\": 10, \"Monsters\": 3, \"Difficulty\": \"Easy\", \"Rnds\": 2.78, \"% PC HP\": 10}, {\"PC Level\": 10, \"Monsters\": 3, \"Difficulty\": \"Medium\", \"Rnds\": 3.31, \"% PC HP\": 21}, {\"PC Level\": 10, \"Monsters\": 3, \"Difficulty\": \"Hard\", \"Rnds\": 4.03, \"% PC HP\": 33}, {\"PC Level\": 10, \"Monsters\": 3, \"Difficulty\": \"Deadly\", \"Rnds\": 4.45, \"% PC HP\": 45}, {\"PC Level\": 3, \"Monsters\": 4, \"Difficulty\": \"Easy\", \"Rnds\": 1.61, \"% PC HP\": 6}, {\"PC Level\": 3, \"Monsters\": 4, \"Difficulty\": \"Medium\", \"Rnds\": 3.3, \"% PC HP\": 20}, {\"PC Level\": 3, \"Monsters\": 4, \"Difficulty\": \"Hard\", \"Rnds\": 4.6, \"% PC HP\": 39}, {\"PC Level\": 3, \"Monsters\": 4, \"Difficulty\": \"Deadly\", \"Rnds\": 5.98, \"% PC HP\": 87}, {\"PC Level\": 4, \"Monsters\": 4, \"Difficulty\": \"Easy\", \"Rnds\": 2.65, \"% PC HP\": 10}, {\"PC Level\": 4, \"Monsters\": 4, \"Difficulty\": \"Medium\", \"Rnds\": 3.69, \"% PC HP\": 20}, {\"PC Level\": 4, \"Monsters\": 4, \"Difficulty\": \"Hard\", \"Rnds\": 4.8, \"% PC HP\": 44}, {\"PC Level\": 4, \"Monsters\": 4, \"Difficulty\": \"Deadly\", \"Rnds\": 4.8, \"% PC HP\": 44}, {\"PC Level\": 6, \"Monsters\": 4, \"Difficulty\": \"Easy\", \"Rnds\": 1.88, \"% PC HP\": 6}, {\"PC Level\": 6, \"Monsters\": 4, \"Difficulty\": \"Medium\", \"Rnds\": 2.45, \"% PC HP\": 14}, {\"PC Level\": 6, \"Monsters\": 4, \"Difficulty\": \"Hard\", \"Rnds\": 2.92, \"% PC HP\": 26}, {\"PC Level\": 6, \"Monsters\": 4, \"Difficulty\": \"Deadly\", \"Rnds\": 3.39, \"% PC HP\": 45}, {\"PC Level\": 8, \"Monsters\": 4, \"Difficulty\": \"Easy\", \"Rnds\": 2.17, \"% PC HP\": 10}, {\"PC Level\": 8, \"Monsters\": 4, \"Difficulty\": \"Medium\", \"Rnds\": 2.59, \"% PC HP\": 17}, {\"PC Level\": 8, \"Monsters\": 4, \"Difficulty\": \"Hard\", \"Rnds\": 3.01, \"% PC HP\": 30}, {\"PC Level\": 8, \"Monsters\": 4, \"Difficulty\": \"Deadly\", \"Rnds\": 3.64, \"% PC HP\": 51}, {\"PC Level\": 10, \"Monsters\": 4, \"Difficulty\": \"Easy\", \"Rnds\": 1.64, \"% PC HP\": 6}, {\"PC Level\": 10, \"Monsters\": 4, \"Difficulty\": \"Medium\", \"Rnds\": 1.96, \"% PC HP\": 10}, {\"PC Level\": 10, \"Monsters\": 4, \"Difficulty\": \"Hard\", \"Rnds\": 2.27, \"% PC HP\": 18}, {\"PC Level\": 10, \"Monsters\": 4, \"Difficulty\": \"Deadly\", \"Rnds\": 2.74, \"% PC HP\": 30}, {\"PC Level\": 3, \"Monsters\": 8, \"Difficulty\": \"Easy\", \"Rnds\": 0.31, \"% PC HP\": 1}, {\"PC Level\": 3, \"Monsters\": 8, \"Difficulty\": \"Medium\", \"Rnds\": 1.61, \"% PC HP\": 12}, {\"PC Level\": 3, \"Monsters\": 8, \"Difficulty\": \"Hard\", \"Rnds\": 3.3, \"% PC HP\": 40}, {\"PC Level\": 3, \"Monsters\": 8, \"Difficulty\": \"Deadly\", \"Rnds\": 3.3, \"% PC HP\": 40}, {\"PC Level\": 4, \"Monsters\": 8, \"Difficulty\": \"Easy\", \"Rnds\": 1.29, \"% PC HP\": 6}, {\"PC Level\": 4, \"Monsters\": 8, \"Difficulty\": \"Medium\", \"Rnds\": 2.65, \"% PC HP\": 20}, {\"PC Level\": 4, \"Monsters\": 8, \"Difficulty\": \"Hard\", \"Rnds\": 2.65, \"% PC HP\": 20}, {\"PC Level\": 4, \"Monsters\": 8, \"Difficulty\": \"Deadly\", \"Rnds\": 3.69, \"% PC HP\": 39}, {\"PC Level\": 6, \"Monsters\": 8, \"Difficulty\": \"Easy\", \"Rnds\": 1.35, \"% PC HP\": 7}, {\"PC Level\": 6, \"Monsters\": 8, \"Difficulty\": \"Medium\", \"Rnds\": 1.88, \"% PC HP\": 13}, {\"PC Level\": 6, \"Monsters\": 8, \"Difficulty\": \"Hard\", \"Rnds\": 2.45, \"% PC HP\": 29}, {\"PC Level\": 6, \"Monsters\": 8, \"Difficulty\": \"Deadly\", \"Rnds\": 2.45, \"% PC HP\": 29}, {\"PC Level\": 8, \"Monsters\": 8, \"Difficulty\": \"Easy\", \"Rnds\": 1.67, \"% PC HP\": 9}, {\"PC Level\": 8, \"Monsters\": 8, \"Difficulty\": \"Medium\", \"Rnds\": 2.17, \"% PC HP\": 19}, {\"PC Level\": 8, \"Monsters\": 8, \"Difficulty\": \"Hard\", \"Rnds\": 2.17, \"% PC HP\": 19}, {\"PC Level\": 8, \"Monsters\": 8, \"Difficulty\": \"Deadly\", \"Rnds\": 2.59, \"% PC HP\": 34}, {\"PC Level\": 10, \"Monsters\": 8, \"Difficulty\": \"Easy\", \"Rnds\": 1.26, \"% PC HP\": 5}, {\"PC Level\": 10, \"Monsters\": 8, \"Difficulty\": \"Medium\", \"Rnds\": 1.64, \"% PC HP\": 11}, {\"PC Level\": 10, \"Monsters\": 8, \"Difficulty\": \"Hard\", \"Rnds\": 1.96, \"% PC HP\": 20}, {\"PC Level\": 10, \"Monsters\": 8, \"Difficulty\": \"Deadly\", \"Rnds\": 1.96, \"% PC HP\": 20}]}}, {\"mode\": \"vega-lite\"});\n",
       "</script>"
      ],
      "text/plain": [
       "alt.Chart(...)"
      ]
     },
     "execution_count": 47,
     "metadata": {},
     "output_type": "execute_result"
    }
   ],
   "source": [
    "chart = (alt.Chart(simudata).mark_boxplot().encode(\n",
    "    alt.Y('Difficulty'),\n",
    "    alt.X('Rnds'),\n",
    "    alt.Color('Difficulty')\n",
    "    Y\n",
    "))\n",
    "chart"
   ]
  },
  {
   "cell_type": "code",
   "execution_count": 51,
   "metadata": {},
   "outputs": [
    {
     "name": "stderr",
     "output_type": "stream",
     "text": [
      "c:\\Users\\marsh\\AppData\\Local\\Programs\\Python\\Python39\\lib\\site-packages\\altair\\utils\\core.py:283: FutureWarning: iteritems is deprecated and will be removed in a future version. Use .items instead.\n",
      "  for col_name, dtype in df.dtypes.iteritems():\n"
     ]
    },
    {
     "data": {
      "text/html": [
       "\n",
       "<div id=\"altair-viz-6a7d70a567c94bb3b841ee5420c40c31\"></div>\n",
       "<script type=\"text/javascript\">\n",
       "  (function(spec, embedOpt){\n",
       "    let outputDiv = document.currentScript.previousElementSibling;\n",
       "    if (outputDiv.id !== \"altair-viz-6a7d70a567c94bb3b841ee5420c40c31\") {\n",
       "      outputDiv = document.getElementById(\"altair-viz-6a7d70a567c94bb3b841ee5420c40c31\");\n",
       "    }\n",
       "    const paths = {\n",
       "      \"vega\": \"https://cdn.jsdelivr.net/npm//vega@5?noext\",\n",
       "      \"vega-lib\": \"https://cdn.jsdelivr.net/npm//vega-lib?noext\",\n",
       "      \"vega-lite\": \"https://cdn.jsdelivr.net/npm//vega-lite@4.8.1?noext\",\n",
       "      \"vega-embed\": \"https://cdn.jsdelivr.net/npm//vega-embed@6?noext\",\n",
       "    };\n",
       "\n",
       "    function loadScript(lib) {\n",
       "      return new Promise(function(resolve, reject) {\n",
       "        var s = document.createElement('script');\n",
       "        s.src = paths[lib];\n",
       "        s.async = true;\n",
       "        s.onload = () => resolve(paths[lib]);\n",
       "        s.onerror = () => reject(`Error loading script: ${paths[lib]}`);\n",
       "        document.getElementsByTagName(\"head\")[0].appendChild(s);\n",
       "      });\n",
       "    }\n",
       "\n",
       "    function showError(err) {\n",
       "      outputDiv.innerHTML = `<div class=\"error\" style=\"color:red;\">${err}</div>`;\n",
       "      throw err;\n",
       "    }\n",
       "\n",
       "    function displayChart(vegaEmbed) {\n",
       "      vegaEmbed(outputDiv, spec, embedOpt)\n",
       "        .catch(err => showError(`Javascript Error: ${err.message}<br>This usually means there's a typo in your chart specification. See the javascript console for the full traceback.`));\n",
       "    }\n",
       "\n",
       "    if(typeof define === \"function\" && define.amd) {\n",
       "      requirejs.config({paths});\n",
       "      require([\"vega-embed\"], displayChart, err => showError(`Error loading script: ${err.message}`));\n",
       "    } else if (typeof vegaEmbed === \"function\") {\n",
       "      displayChart(vegaEmbed);\n",
       "    } else {\n",
       "      loadScript(\"vega\")\n",
       "        .then(() => loadScript(\"vega-lite\"))\n",
       "        .then(() => loadScript(\"vega-embed\"))\n",
       "        .catch(showError)\n",
       "        .then(() => displayChart(vegaEmbed));\n",
       "    }\n",
       "  })({\"config\": {\"view\": {\"continuousWidth\": 400, \"continuousHeight\": 300}}, \"data\": {\"name\": \"data-cf350126cad3bf6f0d038171e693fae6\"}, \"mark\": \"boxplot\", \"encoding\": {\"color\": {\"type\": \"nominal\", \"field\": \"Difficulty\"}, \"x\": {\"type\": \"quantitative\", \"field\": \"% PC HP\"}, \"y\": {\"type\": \"nominal\", \"field\": \"Difficulty\"}}, \"$schema\": \"https://vega.github.io/schema/vega-lite/v4.8.1.json\", \"datasets\": {\"data-cf350126cad3bf6f0d038171e693fae6\": [{\"PC Level\": 3, \"Monsters\": 1, \"Difficulty\": \"Easy\", \"Rnds\": 2.99, \"% PC HP\": 11}, {\"PC Level\": 3, \"Monsters\": 1, \"Difficulty\": \"Medium\", \"Rnds\": 3.56, \"% PC HP\": 20}, {\"PC Level\": 3, \"Monsters\": 1, \"Difficulty\": \"Hard\", \"Rnds\": 4.14, \"% PC HP\": 34}, {\"PC Level\": 3, \"Monsters\": 1, \"Difficulty\": \"Deadly\", \"Rnds\": 5.09, \"% PC HP\": 57}, {\"PC Level\": 4, \"Monsters\": 1, \"Difficulty\": \"Easy\", \"Rnds\": 2.86, \"% PC HP\": 10}, {\"PC Level\": 4, \"Monsters\": 1, \"Difficulty\": \"Medium\", \"Rnds\": 3.32, \"% PC HP\": 17}, {\"PC Level\": 4, \"Monsters\": 1, \"Difficulty\": \"Hard\", \"Rnds\": 4.07, \"% PC HP\": 29}, {\"PC Level\": 4, \"Monsters\": 1, \"Difficulty\": \"Deadly\", \"Rnds\": 4.93, \"% PC HP\": 47}, {\"PC Level\": 6, \"Monsters\": 1, \"Difficulty\": \"Easy\", \"Rnds\": 2.06, \"% PC HP\": 10}, {\"PC Level\": 6, \"Monsters\": 1, \"Difficulty\": \"Medium\", \"Rnds\": 2.75, \"% PC HP\": 20}, {\"PC Level\": 6, \"Monsters\": 1, \"Difficulty\": \"Hard\", \"Rnds\": 3.02, \"% PC HP\": 25}, {\"PC Level\": 6, \"Monsters\": 1, \"Difficulty\": \"Deadly\", \"Rnds\": 3.83, \"% PC HP\": 44}, {\"PC Level\": 8, \"Monsters\": 1, \"Difficulty\": \"Easy\", \"Rnds\": 2.18, \"% PC HP\": 10}, {\"PC Level\": 8, \"Monsters\": 1, \"Difficulty\": \"Medium\", \"Rnds\": 2.66, \"% PC HP\": 17}, {\"PC Level\": 8, \"Monsters\": 1, \"Difficulty\": \"Hard\", \"Rnds\": 3.36, \"% PC HP\": 29}, {\"PC Level\": 8, \"Monsters\": 1, \"Difficulty\": \"Deadly\", \"Rnds\": 4.45, \"% PC HP\": 54}, {\"PC Level\": 10, \"Monsters\": 1, \"Difficulty\": \"Easy\", \"Rnds\": 1.82, \"% PC HP\": 8}, {\"PC Level\": 10, \"Monsters\": 1, \"Difficulty\": \"Medium\", \"Rnds\": 2.33, \"% PC HP\": 14}, {\"PC Level\": 10, \"Monsters\": 1, \"Difficulty\": \"Hard\", \"Rnds\": 3.11, \"% PC HP\": 27}, {\"PC Level\": 10, \"Monsters\": 1, \"Difficulty\": \"Deadly\", \"Rnds\": 3.81, \"% PC HP\": 39}, {\"PC Level\": 3, \"Monsters\": 2, \"Difficulty\": \"Easy\", \"Rnds\": 4.6, \"% PC HP\": 20}, {\"PC Level\": 3, \"Monsters\": 2, \"Difficulty\": \"Medium\", \"Rnds\": 5.98, \"% PC HP\": 44}, {\"PC Level\": 3, \"Monsters\": 2, \"Difficulty\": \"Hard\", \"Rnds\": 5.98, \"% PC HP\": 44}, {\"PC Level\": 3, \"Monsters\": 2, \"Difficulty\": \"Deadly\", \"Rnds\": 7.13, \"% PC HP\": 78}, {\"PC Level\": 4, \"Monsters\": 2, \"Difficulty\": \"Easy\", \"Rnds\": 3.69, \"% PC HP\": 10}, {\"PC Level\": 4, \"Monsters\": 2, \"Difficulty\": \"Medium\", \"Rnds\": 4.8, \"% PC HP\": 22}, {\"PC Level\": 4, \"Monsters\": 2, \"Difficulty\": \"Hard\", \"Rnds\": 5.72, \"% PC HP\": 39}, {\"PC Level\": 4, \"Monsters\": 2, \"Difficulty\": \"Deadly\", \"Rnds\": 6.65, \"% PC HP\": 68}, {\"PC Level\": 6, \"Monsters\": 2, \"Difficulty\": \"Easy\", \"Rnds\": 2.92, \"% PC HP\": 13}, {\"PC Level\": 6, \"Monsters\": 2, \"Difficulty\": \"Medium\", \"Rnds\": 3.39, \"% PC HP\": 23}, {\"PC Level\": 6, \"Monsters\": 2, \"Difficulty\": \"Hard\", \"Rnds\": 4.12, \"% PC HP\": 39}, {\"PC Level\": 6, \"Monsters\": 2, \"Difficulty\": \"Deadly\", \"Rnds\": 4.96, \"% PC HP\": 62}, {\"PC Level\": 8, \"Monsters\": 2, \"Difficulty\": \"Easy\", \"Rnds\": 3.01, \"% PC HP\": 15}, {\"PC Level\": 8, \"Monsters\": 2, \"Difficulty\": \"Medium\", \"Rnds\": 3.64, \"% PC HP\": 26}, {\"PC Level\": 8, \"Monsters\": 2, \"Difficulty\": \"Hard\", \"Rnds\": 4.37, \"% PC HP\": 41}, {\"PC Level\": 8, \"Monsters\": 2, \"Difficulty\": \"Deadly\", \"Rnds\": 4.84, \"% PC HP\": 53}, {\"PC Level\": 10, \"Monsters\": 2, \"Difficulty\": \"Easy\", \"Rnds\": 2.27, \"% PC HP\": 9}, {\"PC Level\": 10, \"Monsters\": 2, \"Difficulty\": \"Medium\", \"Rnds\": 2.74, \"% PC HP\": 15}, {\"PC Level\": 10, \"Monsters\": 2, \"Difficulty\": \"Hard\", \"Rnds\": 3.64, \"% PC HP\": 31}, {\"PC Level\": 10, \"Monsters\": 2, \"Difficulty\": \"Deadly\", \"Rnds\": 4.65, \"% PC HP\": 56}, {\"PC Level\": 3, \"Monsters\": 3, \"Difficulty\": \"Easy\", \"Rnds\": 3.91, \"% PC HP\": 15}, {\"PC Level\": 3, \"Monsters\": 3, \"Difficulty\": \"Medium\", \"Rnds\": 6.28, \"% PC HP\": 42}, {\"PC Level\": 3, \"Monsters\": 3, \"Difficulty\": \"Hard\", \"Rnds\": 7.59, \"% PC HP\": 60}, {\"PC Level\": 3, \"Monsters\": 3, \"Difficulty\": \"Deadly\", \"Rnds\": 6.86, \"% PC HP\": 58}, {\"PC Level\": 4, \"Monsters\": 3, \"Difficulty\": \"Easy\", \"Rnds\": 3.69, \"% PC HP\": 13}, {\"PC Level\": 4, \"Monsters\": 3, \"Difficulty\": \"Medium\", \"Rnds\": 4.15, \"% PC HP\": 19}, {\"PC Level\": 4, \"Monsters\": 3, \"Difficulty\": \"Hard\", \"Rnds\": 4.62, \"% PC HP\": 29}, {\"PC Level\": 4, \"Monsters\": 3, \"Difficulty\": \"Deadly\", \"Rnds\": 7.02, \"% PC HP\": 55}, {\"PC Level\": 6, \"Monsters\": 3, \"Difficulty\": \"Easy\", \"Rnds\": 2.81, \"% PC HP\": 12}, {\"PC Level\": 6, \"Monsters\": 3, \"Difficulty\": \"Medium\", \"Rnds\": 4.14, \"% PC HP\": 26}, {\"PC Level\": 6, \"Monsters\": 3, \"Difficulty\": \"Hard\", \"Rnds\": 4.47, \"% PC HP\": 34}, {\"PC Level\": 6, \"Monsters\": 3, \"Difficulty\": \"Deadly\", \"Rnds\": 5.31, \"% PC HP\": 64}, {\"PC Level\": 8, \"Monsters\": 3, \"Difficulty\": \"Easy\", \"Rnds\": 3.17, \"% PC HP\": 12}, {\"PC Level\": 8, \"Monsters\": 3, \"Difficulty\": \"Medium\", \"Rnds\": 3.96, \"% PC HP\": 23}, {\"PC Level\": 8, \"Monsters\": 3, \"Difficulty\": \"Hard\", \"Rnds\": 4.7, \"% PC HP\": 43}, {\"PC Level\": 8, \"Monsters\": 3, \"Difficulty\": \"Deadly\", \"Rnds\": 5.35, \"% PC HP\": 56}, {\"PC Level\": 10, \"Monsters\": 3, \"Difficulty\": \"Easy\", \"Rnds\": 2.78, \"% PC HP\": 10}, {\"PC Level\": 10, \"Monsters\": 3, \"Difficulty\": \"Medium\", \"Rnds\": 3.31, \"% PC HP\": 21}, {\"PC Level\": 10, \"Monsters\": 3, \"Difficulty\": \"Hard\", \"Rnds\": 4.03, \"% PC HP\": 33}, {\"PC Level\": 10, \"Monsters\": 3, \"Difficulty\": \"Deadly\", \"Rnds\": 4.45, \"% PC HP\": 45}, {\"PC Level\": 3, \"Monsters\": 4, \"Difficulty\": \"Easy\", \"Rnds\": 1.61, \"% PC HP\": 6}, {\"PC Level\": 3, \"Monsters\": 4, \"Difficulty\": \"Medium\", \"Rnds\": 3.3, \"% PC HP\": 20}, {\"PC Level\": 3, \"Monsters\": 4, \"Difficulty\": \"Hard\", \"Rnds\": 4.6, \"% PC HP\": 39}, {\"PC Level\": 3, \"Monsters\": 4, \"Difficulty\": \"Deadly\", \"Rnds\": 5.98, \"% PC HP\": 87}, {\"PC Level\": 4, \"Monsters\": 4, \"Difficulty\": \"Easy\", \"Rnds\": 2.65, \"% PC HP\": 10}, {\"PC Level\": 4, \"Monsters\": 4, \"Difficulty\": \"Medium\", \"Rnds\": 3.69, \"% PC HP\": 20}, {\"PC Level\": 4, \"Monsters\": 4, \"Difficulty\": \"Hard\", \"Rnds\": 4.8, \"% PC HP\": 44}, {\"PC Level\": 4, \"Monsters\": 4, \"Difficulty\": \"Deadly\", \"Rnds\": 4.8, \"% PC HP\": 44}, {\"PC Level\": 6, \"Monsters\": 4, \"Difficulty\": \"Easy\", \"Rnds\": 1.88, \"% PC HP\": 6}, {\"PC Level\": 6, \"Monsters\": 4, \"Difficulty\": \"Medium\", \"Rnds\": 2.45, \"% PC HP\": 14}, {\"PC Level\": 6, \"Monsters\": 4, \"Difficulty\": \"Hard\", \"Rnds\": 2.92, \"% PC HP\": 26}, {\"PC Level\": 6, \"Monsters\": 4, \"Difficulty\": \"Deadly\", \"Rnds\": 3.39, \"% PC HP\": 45}, {\"PC Level\": 8, \"Monsters\": 4, \"Difficulty\": \"Easy\", \"Rnds\": 2.17, \"% PC HP\": 10}, {\"PC Level\": 8, \"Monsters\": 4, \"Difficulty\": \"Medium\", \"Rnds\": 2.59, \"% PC HP\": 17}, {\"PC Level\": 8, \"Monsters\": 4, \"Difficulty\": \"Hard\", \"Rnds\": 3.01, \"% PC HP\": 30}, {\"PC Level\": 8, \"Monsters\": 4, \"Difficulty\": \"Deadly\", \"Rnds\": 3.64, \"% PC HP\": 51}, {\"PC Level\": 10, \"Monsters\": 4, \"Difficulty\": \"Easy\", \"Rnds\": 1.64, \"% PC HP\": 6}, {\"PC Level\": 10, \"Monsters\": 4, \"Difficulty\": \"Medium\", \"Rnds\": 1.96, \"% PC HP\": 10}, {\"PC Level\": 10, \"Monsters\": 4, \"Difficulty\": \"Hard\", \"Rnds\": 2.27, \"% PC HP\": 18}, {\"PC Level\": 10, \"Monsters\": 4, \"Difficulty\": \"Deadly\", \"Rnds\": 2.74, \"% PC HP\": 30}, {\"PC Level\": 3, \"Monsters\": 8, \"Difficulty\": \"Easy\", \"Rnds\": 0.31, \"% PC HP\": 1}, {\"PC Level\": 3, \"Monsters\": 8, \"Difficulty\": \"Medium\", \"Rnds\": 1.61, \"% PC HP\": 12}, {\"PC Level\": 3, \"Monsters\": 8, \"Difficulty\": \"Hard\", \"Rnds\": 3.3, \"% PC HP\": 40}, {\"PC Level\": 3, \"Monsters\": 8, \"Difficulty\": \"Deadly\", \"Rnds\": 3.3, \"% PC HP\": 40}, {\"PC Level\": 4, \"Monsters\": 8, \"Difficulty\": \"Easy\", \"Rnds\": 1.29, \"% PC HP\": 6}, {\"PC Level\": 4, \"Monsters\": 8, \"Difficulty\": \"Medium\", \"Rnds\": 2.65, \"% PC HP\": 20}, {\"PC Level\": 4, \"Monsters\": 8, \"Difficulty\": \"Hard\", \"Rnds\": 2.65, \"% PC HP\": 20}, {\"PC Level\": 4, \"Monsters\": 8, \"Difficulty\": \"Deadly\", \"Rnds\": 3.69, \"% PC HP\": 39}, {\"PC Level\": 6, \"Monsters\": 8, \"Difficulty\": \"Easy\", \"Rnds\": 1.35, \"% PC HP\": 7}, {\"PC Level\": 6, \"Monsters\": 8, \"Difficulty\": \"Medium\", \"Rnds\": 1.88, \"% PC HP\": 13}, {\"PC Level\": 6, \"Monsters\": 8, \"Difficulty\": \"Hard\", \"Rnds\": 2.45, \"% PC HP\": 29}, {\"PC Level\": 6, \"Monsters\": 8, \"Difficulty\": \"Deadly\", \"Rnds\": 2.45, \"% PC HP\": 29}, {\"PC Level\": 8, \"Monsters\": 8, \"Difficulty\": \"Easy\", \"Rnds\": 1.67, \"% PC HP\": 9}, {\"PC Level\": 8, \"Monsters\": 8, \"Difficulty\": \"Medium\", \"Rnds\": 2.17, \"% PC HP\": 19}, {\"PC Level\": 8, \"Monsters\": 8, \"Difficulty\": \"Hard\", \"Rnds\": 2.17, \"% PC HP\": 19}, {\"PC Level\": 8, \"Monsters\": 8, \"Difficulty\": \"Deadly\", \"Rnds\": 2.59, \"% PC HP\": 34}, {\"PC Level\": 10, \"Monsters\": 8, \"Difficulty\": \"Easy\", \"Rnds\": 1.26, \"% PC HP\": 5}, {\"PC Level\": 10, \"Monsters\": 8, \"Difficulty\": \"Medium\", \"Rnds\": 1.64, \"% PC HP\": 11}, {\"PC Level\": 10, \"Monsters\": 8, \"Difficulty\": \"Hard\", \"Rnds\": 1.96, \"% PC HP\": 20}, {\"PC Level\": 10, \"Monsters\": 8, \"Difficulty\": \"Deadly\", \"Rnds\": 1.96, \"% PC HP\": 20}]}}, {\"mode\": \"vega-lite\"});\n",
       "</script>"
      ],
      "text/plain": [
       "alt.Chart(...)"
      ]
     },
     "execution_count": 51,
     "metadata": {},
     "output_type": "execute_result"
    }
   ],
   "source": [
    "chart = (alt.Chart(simudata).mark_boxplot().encode(\n",
    "    alt.Y('Difficulty'),\n",
    "    alt.X('% PC HP'),\n",
    "    alt.Color('Difficulty'),\n",
    "))\n",
    "chart"
   ]
  },
  {
   "cell_type": "code",
   "execution_count": 52,
   "metadata": {},
   "outputs": [
    {
     "data": {
      "text/html": [
       "\n",
       "<div id=\"altair-viz-46b1cf51a49c4d489a53a30ae599158d\"></div>\n",
       "<script type=\"text/javascript\">\n",
       "  (function(spec, embedOpt){\n",
       "    let outputDiv = document.currentScript.previousElementSibling;\n",
       "    if (outputDiv.id !== \"altair-viz-46b1cf51a49c4d489a53a30ae599158d\") {\n",
       "      outputDiv = document.getElementById(\"altair-viz-46b1cf51a49c4d489a53a30ae599158d\");\n",
       "    }\n",
       "    const paths = {\n",
       "      \"vega\": \"https://cdn.jsdelivr.net/npm//vega@5?noext\",\n",
       "      \"vega-lib\": \"https://cdn.jsdelivr.net/npm//vega-lib?noext\",\n",
       "      \"vega-lite\": \"https://cdn.jsdelivr.net/npm//vega-lite@4.8.1?noext\",\n",
       "      \"vega-embed\": \"https://cdn.jsdelivr.net/npm//vega-embed@6?noext\",\n",
       "    };\n",
       "\n",
       "    function loadScript(lib) {\n",
       "      return new Promise(function(resolve, reject) {\n",
       "        var s = document.createElement('script');\n",
       "        s.src = paths[lib];\n",
       "        s.async = true;\n",
       "        s.onload = () => resolve(paths[lib]);\n",
       "        s.onerror = () => reject(`Error loading script: ${paths[lib]}`);\n",
       "        document.getElementsByTagName(\"head\")[0].appendChild(s);\n",
       "      });\n",
       "    }\n",
       "\n",
       "    function showError(err) {\n",
       "      outputDiv.innerHTML = `<div class=\"error\" style=\"color:red;\">${err}</div>`;\n",
       "      throw err;\n",
       "    }\n",
       "\n",
       "    function displayChart(vegaEmbed) {\n",
       "      vegaEmbed(outputDiv, spec, embedOpt)\n",
       "        .catch(err => showError(`Javascript Error: ${err.message}<br>This usually means there's a typo in your chart specification. See the javascript console for the full traceback.`));\n",
       "    }\n",
       "\n",
       "    if(typeof define === \"function\" && define.amd) {\n",
       "      requirejs.config({paths});\n",
       "      require([\"vega-embed\"], displayChart, err => showError(`Error loading script: ${err.message}`));\n",
       "    } else if (typeof vegaEmbed === \"function\") {\n",
       "      displayChart(vegaEmbed);\n",
       "    } else {\n",
       "      loadScript(\"vega\")\n",
       "        .then(() => loadScript(\"vega-lite\"))\n",
       "        .then(() => loadScript(\"vega-embed\"))\n",
       "        .catch(showError)\n",
       "        .then(() => displayChart(vegaEmbed));\n",
       "    }\n",
       "  })({\"config\": {\"view\": {\"continuousWidth\": 400, \"continuousHeight\": 300}}, \"data\": {\"name\": \"data-cf350126cad3bf6f0d038171e693fae6\"}, \"mark\": \"circle\", \"encoding\": {\"color\": {\"type\": \"nominal\", \"field\": \"Difficulty\"}, \"x\": {\"type\": \"quantitative\", \"field\": \"Monsters\"}, \"y\": {\"type\": \"quantitative\", \"field\": \"% PC HP\"}}, \"$schema\": \"https://vega.github.io/schema/vega-lite/v4.8.1.json\", \"datasets\": {\"data-cf350126cad3bf6f0d038171e693fae6\": [{\"PC Level\": 3, \"Monsters\": 1, \"Difficulty\": \"Easy\", \"Rnds\": 2.99, \"% PC HP\": 11}, {\"PC Level\": 3, \"Monsters\": 1, \"Difficulty\": \"Medium\", \"Rnds\": 3.56, \"% PC HP\": 20}, {\"PC Level\": 3, \"Monsters\": 1, \"Difficulty\": \"Hard\", \"Rnds\": 4.14, \"% PC HP\": 34}, {\"PC Level\": 3, \"Monsters\": 1, \"Difficulty\": \"Deadly\", \"Rnds\": 5.09, \"% PC HP\": 57}, {\"PC Level\": 4, \"Monsters\": 1, \"Difficulty\": \"Easy\", \"Rnds\": 2.86, \"% PC HP\": 10}, {\"PC Level\": 4, \"Monsters\": 1, \"Difficulty\": \"Medium\", \"Rnds\": 3.32, \"% PC HP\": 17}, {\"PC Level\": 4, \"Monsters\": 1, \"Difficulty\": \"Hard\", \"Rnds\": 4.07, \"% PC HP\": 29}, {\"PC Level\": 4, \"Monsters\": 1, \"Difficulty\": \"Deadly\", \"Rnds\": 4.93, \"% PC HP\": 47}, {\"PC Level\": 6, \"Monsters\": 1, \"Difficulty\": \"Easy\", \"Rnds\": 2.06, \"% PC HP\": 10}, {\"PC Level\": 6, \"Monsters\": 1, \"Difficulty\": \"Medium\", \"Rnds\": 2.75, \"% PC HP\": 20}, {\"PC Level\": 6, \"Monsters\": 1, \"Difficulty\": \"Hard\", \"Rnds\": 3.02, \"% PC HP\": 25}, {\"PC Level\": 6, \"Monsters\": 1, \"Difficulty\": \"Deadly\", \"Rnds\": 3.83, \"% PC HP\": 44}, {\"PC Level\": 8, \"Monsters\": 1, \"Difficulty\": \"Easy\", \"Rnds\": 2.18, \"% PC HP\": 10}, {\"PC Level\": 8, \"Monsters\": 1, \"Difficulty\": \"Medium\", \"Rnds\": 2.66, \"% PC HP\": 17}, {\"PC Level\": 8, \"Monsters\": 1, \"Difficulty\": \"Hard\", \"Rnds\": 3.36, \"% PC HP\": 29}, {\"PC Level\": 8, \"Monsters\": 1, \"Difficulty\": \"Deadly\", \"Rnds\": 4.45, \"% PC HP\": 54}, {\"PC Level\": 10, \"Monsters\": 1, \"Difficulty\": \"Easy\", \"Rnds\": 1.82, \"% PC HP\": 8}, {\"PC Level\": 10, \"Monsters\": 1, \"Difficulty\": \"Medium\", \"Rnds\": 2.33, \"% PC HP\": 14}, {\"PC Level\": 10, \"Monsters\": 1, \"Difficulty\": \"Hard\", \"Rnds\": 3.11, \"% PC HP\": 27}, {\"PC Level\": 10, \"Monsters\": 1, \"Difficulty\": \"Deadly\", \"Rnds\": 3.81, \"% PC HP\": 39}, {\"PC Level\": 3, \"Monsters\": 2, \"Difficulty\": \"Easy\", \"Rnds\": 4.6, \"% PC HP\": 20}, {\"PC Level\": 3, \"Monsters\": 2, \"Difficulty\": \"Medium\", \"Rnds\": 5.98, \"% PC HP\": 44}, {\"PC Level\": 3, \"Monsters\": 2, \"Difficulty\": \"Hard\", \"Rnds\": 5.98, \"% PC HP\": 44}, {\"PC Level\": 3, \"Monsters\": 2, \"Difficulty\": \"Deadly\", \"Rnds\": 7.13, \"% PC HP\": 78}, {\"PC Level\": 4, \"Monsters\": 2, \"Difficulty\": \"Easy\", \"Rnds\": 3.69, \"% PC HP\": 10}, {\"PC Level\": 4, \"Monsters\": 2, \"Difficulty\": \"Medium\", \"Rnds\": 4.8, \"% PC HP\": 22}, {\"PC Level\": 4, \"Monsters\": 2, \"Difficulty\": \"Hard\", \"Rnds\": 5.72, \"% PC HP\": 39}, {\"PC Level\": 4, \"Monsters\": 2, \"Difficulty\": \"Deadly\", \"Rnds\": 6.65, \"% PC HP\": 68}, {\"PC Level\": 6, \"Monsters\": 2, \"Difficulty\": \"Easy\", \"Rnds\": 2.92, \"% PC HP\": 13}, {\"PC Level\": 6, \"Monsters\": 2, \"Difficulty\": \"Medium\", \"Rnds\": 3.39, \"% PC HP\": 23}, {\"PC Level\": 6, \"Monsters\": 2, \"Difficulty\": \"Hard\", \"Rnds\": 4.12, \"% PC HP\": 39}, {\"PC Level\": 6, \"Monsters\": 2, \"Difficulty\": \"Deadly\", \"Rnds\": 4.96, \"% PC HP\": 62}, {\"PC Level\": 8, \"Monsters\": 2, \"Difficulty\": \"Easy\", \"Rnds\": 3.01, \"% PC HP\": 15}, {\"PC Level\": 8, \"Monsters\": 2, \"Difficulty\": \"Medium\", \"Rnds\": 3.64, \"% PC HP\": 26}, {\"PC Level\": 8, \"Monsters\": 2, \"Difficulty\": \"Hard\", \"Rnds\": 4.37, \"% PC HP\": 41}, {\"PC Level\": 8, \"Monsters\": 2, \"Difficulty\": \"Deadly\", \"Rnds\": 4.84, \"% PC HP\": 53}, {\"PC Level\": 10, \"Monsters\": 2, \"Difficulty\": \"Easy\", \"Rnds\": 2.27, \"% PC HP\": 9}, {\"PC Level\": 10, \"Monsters\": 2, \"Difficulty\": \"Medium\", \"Rnds\": 2.74, \"% PC HP\": 15}, {\"PC Level\": 10, \"Monsters\": 2, \"Difficulty\": \"Hard\", \"Rnds\": 3.64, \"% PC HP\": 31}, {\"PC Level\": 10, \"Monsters\": 2, \"Difficulty\": \"Deadly\", \"Rnds\": 4.65, \"% PC HP\": 56}, {\"PC Level\": 3, \"Monsters\": 3, \"Difficulty\": \"Easy\", \"Rnds\": 3.91, \"% PC HP\": 15}, {\"PC Level\": 3, \"Monsters\": 3, \"Difficulty\": \"Medium\", \"Rnds\": 6.28, \"% PC HP\": 42}, {\"PC Level\": 3, \"Monsters\": 3, \"Difficulty\": \"Hard\", \"Rnds\": 7.59, \"% PC HP\": 60}, {\"PC Level\": 3, \"Monsters\": 3, \"Difficulty\": \"Deadly\", \"Rnds\": 6.86, \"% PC HP\": 58}, {\"PC Level\": 4, \"Monsters\": 3, \"Difficulty\": \"Easy\", \"Rnds\": 3.69, \"% PC HP\": 13}, {\"PC Level\": 4, \"Monsters\": 3, \"Difficulty\": \"Medium\", \"Rnds\": 4.15, \"% PC HP\": 19}, {\"PC Level\": 4, \"Monsters\": 3, \"Difficulty\": \"Hard\", \"Rnds\": 4.62, \"% PC HP\": 29}, {\"PC Level\": 4, \"Monsters\": 3, \"Difficulty\": \"Deadly\", \"Rnds\": 7.02, \"% PC HP\": 55}, {\"PC Level\": 6, \"Monsters\": 3, \"Difficulty\": \"Easy\", \"Rnds\": 2.81, \"% PC HP\": 12}, {\"PC Level\": 6, \"Monsters\": 3, \"Difficulty\": \"Medium\", \"Rnds\": 4.14, \"% PC HP\": 26}, {\"PC Level\": 6, \"Monsters\": 3, \"Difficulty\": \"Hard\", \"Rnds\": 4.47, \"% PC HP\": 34}, {\"PC Level\": 6, \"Monsters\": 3, \"Difficulty\": \"Deadly\", \"Rnds\": 5.31, \"% PC HP\": 64}, {\"PC Level\": 8, \"Monsters\": 3, \"Difficulty\": \"Easy\", \"Rnds\": 3.17, \"% PC HP\": 12}, {\"PC Level\": 8, \"Monsters\": 3, \"Difficulty\": \"Medium\", \"Rnds\": 3.96, \"% PC HP\": 23}, {\"PC Level\": 8, \"Monsters\": 3, \"Difficulty\": \"Hard\", \"Rnds\": 4.7, \"% PC HP\": 43}, {\"PC Level\": 8, \"Monsters\": 3, \"Difficulty\": \"Deadly\", \"Rnds\": 5.35, \"% PC HP\": 56}, {\"PC Level\": 10, \"Monsters\": 3, \"Difficulty\": \"Easy\", \"Rnds\": 2.78, \"% PC HP\": 10}, {\"PC Level\": 10, \"Monsters\": 3, \"Difficulty\": \"Medium\", \"Rnds\": 3.31, \"% PC HP\": 21}, {\"PC Level\": 10, \"Monsters\": 3, \"Difficulty\": \"Hard\", \"Rnds\": 4.03, \"% PC HP\": 33}, {\"PC Level\": 10, \"Monsters\": 3, \"Difficulty\": \"Deadly\", \"Rnds\": 4.45, \"% PC HP\": 45}, {\"PC Level\": 3, \"Monsters\": 4, \"Difficulty\": \"Easy\", \"Rnds\": 1.61, \"% PC HP\": 6}, {\"PC Level\": 3, \"Monsters\": 4, \"Difficulty\": \"Medium\", \"Rnds\": 3.3, \"% PC HP\": 20}, {\"PC Level\": 3, \"Monsters\": 4, \"Difficulty\": \"Hard\", \"Rnds\": 4.6, \"% PC HP\": 39}, {\"PC Level\": 3, \"Monsters\": 4, \"Difficulty\": \"Deadly\", \"Rnds\": 5.98, \"% PC HP\": 87}, {\"PC Level\": 4, \"Monsters\": 4, \"Difficulty\": \"Easy\", \"Rnds\": 2.65, \"% PC HP\": 10}, {\"PC Level\": 4, \"Monsters\": 4, \"Difficulty\": \"Medium\", \"Rnds\": 3.69, \"% PC HP\": 20}, {\"PC Level\": 4, \"Monsters\": 4, \"Difficulty\": \"Hard\", \"Rnds\": 4.8, \"% PC HP\": 44}, {\"PC Level\": 4, \"Monsters\": 4, \"Difficulty\": \"Deadly\", \"Rnds\": 4.8, \"% PC HP\": 44}, {\"PC Level\": 6, \"Monsters\": 4, \"Difficulty\": \"Easy\", \"Rnds\": 1.88, \"% PC HP\": 6}, {\"PC Level\": 6, \"Monsters\": 4, \"Difficulty\": \"Medium\", \"Rnds\": 2.45, \"% PC HP\": 14}, {\"PC Level\": 6, \"Monsters\": 4, \"Difficulty\": \"Hard\", \"Rnds\": 2.92, \"% PC HP\": 26}, {\"PC Level\": 6, \"Monsters\": 4, \"Difficulty\": \"Deadly\", \"Rnds\": 3.39, \"% PC HP\": 45}, {\"PC Level\": 8, \"Monsters\": 4, \"Difficulty\": \"Easy\", \"Rnds\": 2.17, \"% PC HP\": 10}, {\"PC Level\": 8, \"Monsters\": 4, \"Difficulty\": \"Medium\", \"Rnds\": 2.59, \"% PC HP\": 17}, {\"PC Level\": 8, \"Monsters\": 4, \"Difficulty\": \"Hard\", \"Rnds\": 3.01, \"% PC HP\": 30}, {\"PC Level\": 8, \"Monsters\": 4, \"Difficulty\": \"Deadly\", \"Rnds\": 3.64, \"% PC HP\": 51}, {\"PC Level\": 10, \"Monsters\": 4, \"Difficulty\": \"Easy\", \"Rnds\": 1.64, \"% PC HP\": 6}, {\"PC Level\": 10, \"Monsters\": 4, \"Difficulty\": \"Medium\", \"Rnds\": 1.96, \"% PC HP\": 10}, {\"PC Level\": 10, \"Monsters\": 4, \"Difficulty\": \"Hard\", \"Rnds\": 2.27, \"% PC HP\": 18}, {\"PC Level\": 10, \"Monsters\": 4, \"Difficulty\": \"Deadly\", \"Rnds\": 2.74, \"% PC HP\": 30}, {\"PC Level\": 3, \"Monsters\": 8, \"Difficulty\": \"Easy\", \"Rnds\": 0.31, \"% PC HP\": 1}, {\"PC Level\": 3, \"Monsters\": 8, \"Difficulty\": \"Medium\", \"Rnds\": 1.61, \"% PC HP\": 12}, {\"PC Level\": 3, \"Monsters\": 8, \"Difficulty\": \"Hard\", \"Rnds\": 3.3, \"% PC HP\": 40}, {\"PC Level\": 3, \"Monsters\": 8, \"Difficulty\": \"Deadly\", \"Rnds\": 3.3, \"% PC HP\": 40}, {\"PC Level\": 4, \"Monsters\": 8, \"Difficulty\": \"Easy\", \"Rnds\": 1.29, \"% PC HP\": 6}, {\"PC Level\": 4, \"Monsters\": 8, \"Difficulty\": \"Medium\", \"Rnds\": 2.65, \"% PC HP\": 20}, {\"PC Level\": 4, \"Monsters\": 8, \"Difficulty\": \"Hard\", \"Rnds\": 2.65, \"% PC HP\": 20}, {\"PC Level\": 4, \"Monsters\": 8, \"Difficulty\": \"Deadly\", \"Rnds\": 3.69, \"% PC HP\": 39}, {\"PC Level\": 6, \"Monsters\": 8, \"Difficulty\": \"Easy\", \"Rnds\": 1.35, \"% PC HP\": 7}, {\"PC Level\": 6, \"Monsters\": 8, \"Difficulty\": \"Medium\", \"Rnds\": 1.88, \"% PC HP\": 13}, {\"PC Level\": 6, \"Monsters\": 8, \"Difficulty\": \"Hard\", \"Rnds\": 2.45, \"% PC HP\": 29}, {\"PC Level\": 6, \"Monsters\": 8, \"Difficulty\": \"Deadly\", \"Rnds\": 2.45, \"% PC HP\": 29}, {\"PC Level\": 8, \"Monsters\": 8, \"Difficulty\": \"Easy\", \"Rnds\": 1.67, \"% PC HP\": 9}, {\"PC Level\": 8, \"Monsters\": 8, \"Difficulty\": \"Medium\", \"Rnds\": 2.17, \"% PC HP\": 19}, {\"PC Level\": 8, \"Monsters\": 8, \"Difficulty\": \"Hard\", \"Rnds\": 2.17, \"% PC HP\": 19}, {\"PC Level\": 8, \"Monsters\": 8, \"Difficulty\": \"Deadly\", \"Rnds\": 2.59, \"% PC HP\": 34}, {\"PC Level\": 10, \"Monsters\": 8, \"Difficulty\": \"Easy\", \"Rnds\": 1.26, \"% PC HP\": 5}, {\"PC Level\": 10, \"Monsters\": 8, \"Difficulty\": \"Medium\", \"Rnds\": 1.64, \"% PC HP\": 11}, {\"PC Level\": 10, \"Monsters\": 8, \"Difficulty\": \"Hard\", \"Rnds\": 1.96, \"% PC HP\": 20}, {\"PC Level\": 10, \"Monsters\": 8, \"Difficulty\": \"Deadly\", \"Rnds\": 1.96, \"% PC HP\": 20}]}}, {\"mode\": \"vega-lite\"});\n",
       "</script>"
      ],
      "text/plain": [
       "alt.Chart(...)"
      ]
     },
     "execution_count": 52,
     "metadata": {},
     "output_type": "execute_result"
    }
   ],
   "source": [
    "chart = (alt.Chart(simudata)\n",
    "         .encode(\n",
    "            x = 'Monsters',\n",
    "            y = '% PC HP',\n",
    "            color = 'Difficulty'\n",
    "         )\n",
    "         .mark_circle()\n",
    "         )\n",
    "chart"
   ]
  },
  {
   "cell_type": "code",
   "execution_count": 53,
   "metadata": {},
   "outputs": [
    {
     "data": {
      "text/html": [
       "\n",
       "<div id=\"altair-viz-b314e21f14a643388580c30519efacb2\"></div>\n",
       "<script type=\"text/javascript\">\n",
       "  (function(spec, embedOpt){\n",
       "    let outputDiv = document.currentScript.previousElementSibling;\n",
       "    if (outputDiv.id !== \"altair-viz-b314e21f14a643388580c30519efacb2\") {\n",
       "      outputDiv = document.getElementById(\"altair-viz-b314e21f14a643388580c30519efacb2\");\n",
       "    }\n",
       "    const paths = {\n",
       "      \"vega\": \"https://cdn.jsdelivr.net/npm//vega@5?noext\",\n",
       "      \"vega-lib\": \"https://cdn.jsdelivr.net/npm//vega-lib?noext\",\n",
       "      \"vega-lite\": \"https://cdn.jsdelivr.net/npm//vega-lite@4.8.1?noext\",\n",
       "      \"vega-embed\": \"https://cdn.jsdelivr.net/npm//vega-embed@6?noext\",\n",
       "    };\n",
       "\n",
       "    function loadScript(lib) {\n",
       "      return new Promise(function(resolve, reject) {\n",
       "        var s = document.createElement('script');\n",
       "        s.src = paths[lib];\n",
       "        s.async = true;\n",
       "        s.onload = () => resolve(paths[lib]);\n",
       "        s.onerror = () => reject(`Error loading script: ${paths[lib]}`);\n",
       "        document.getElementsByTagName(\"head\")[0].appendChild(s);\n",
       "      });\n",
       "    }\n",
       "\n",
       "    function showError(err) {\n",
       "      outputDiv.innerHTML = `<div class=\"error\" style=\"color:red;\">${err}</div>`;\n",
       "      throw err;\n",
       "    }\n",
       "\n",
       "    function displayChart(vegaEmbed) {\n",
       "      vegaEmbed(outputDiv, spec, embedOpt)\n",
       "        .catch(err => showError(`Javascript Error: ${err.message}<br>This usually means there's a typo in your chart specification. See the javascript console for the full traceback.`));\n",
       "    }\n",
       "\n",
       "    if(typeof define === \"function\" && define.amd) {\n",
       "      requirejs.config({paths});\n",
       "      require([\"vega-embed\"], displayChart, err => showError(`Error loading script: ${err.message}`));\n",
       "    } else if (typeof vegaEmbed === \"function\") {\n",
       "      displayChart(vegaEmbed);\n",
       "    } else {\n",
       "      loadScript(\"vega\")\n",
       "        .then(() => loadScript(\"vega-lite\"))\n",
       "        .then(() => loadScript(\"vega-embed\"))\n",
       "        .catch(showError)\n",
       "        .then(() => displayChart(vegaEmbed));\n",
       "    }\n",
       "  })({\"config\": {\"view\": {\"continuousWidth\": 400, \"continuousHeight\": 300}}, \"data\": {\"name\": \"data-cf350126cad3bf6f0d038171e693fae6\"}, \"mark\": \"circle\", \"encoding\": {\"color\": {\"type\": \"nominal\", \"field\": \"Difficulty\"}, \"x\": {\"type\": \"quantitative\", \"field\": \"PC Level\"}, \"y\": {\"type\": \"quantitative\", \"field\": \"% PC HP\"}}, \"$schema\": \"https://vega.github.io/schema/vega-lite/v4.8.1.json\", \"datasets\": {\"data-cf350126cad3bf6f0d038171e693fae6\": [{\"PC Level\": 3, \"Monsters\": 1, \"Difficulty\": \"Easy\", \"Rnds\": 2.99, \"% PC HP\": 11}, {\"PC Level\": 3, \"Monsters\": 1, \"Difficulty\": \"Medium\", \"Rnds\": 3.56, \"% PC HP\": 20}, {\"PC Level\": 3, \"Monsters\": 1, \"Difficulty\": \"Hard\", \"Rnds\": 4.14, \"% PC HP\": 34}, {\"PC Level\": 3, \"Monsters\": 1, \"Difficulty\": \"Deadly\", \"Rnds\": 5.09, \"% PC HP\": 57}, {\"PC Level\": 4, \"Monsters\": 1, \"Difficulty\": \"Easy\", \"Rnds\": 2.86, \"% PC HP\": 10}, {\"PC Level\": 4, \"Monsters\": 1, \"Difficulty\": \"Medium\", \"Rnds\": 3.32, \"% PC HP\": 17}, {\"PC Level\": 4, \"Monsters\": 1, \"Difficulty\": \"Hard\", \"Rnds\": 4.07, \"% PC HP\": 29}, {\"PC Level\": 4, \"Monsters\": 1, \"Difficulty\": \"Deadly\", \"Rnds\": 4.93, \"% PC HP\": 47}, {\"PC Level\": 6, \"Monsters\": 1, \"Difficulty\": \"Easy\", \"Rnds\": 2.06, \"% PC HP\": 10}, {\"PC Level\": 6, \"Monsters\": 1, \"Difficulty\": \"Medium\", \"Rnds\": 2.75, \"% PC HP\": 20}, {\"PC Level\": 6, \"Monsters\": 1, \"Difficulty\": \"Hard\", \"Rnds\": 3.02, \"% PC HP\": 25}, {\"PC Level\": 6, \"Monsters\": 1, \"Difficulty\": \"Deadly\", \"Rnds\": 3.83, \"% PC HP\": 44}, {\"PC Level\": 8, \"Monsters\": 1, \"Difficulty\": \"Easy\", \"Rnds\": 2.18, \"% PC HP\": 10}, {\"PC Level\": 8, \"Monsters\": 1, \"Difficulty\": \"Medium\", \"Rnds\": 2.66, \"% PC HP\": 17}, {\"PC Level\": 8, \"Monsters\": 1, \"Difficulty\": \"Hard\", \"Rnds\": 3.36, \"% PC HP\": 29}, {\"PC Level\": 8, \"Monsters\": 1, \"Difficulty\": \"Deadly\", \"Rnds\": 4.45, \"% PC HP\": 54}, {\"PC Level\": 10, \"Monsters\": 1, \"Difficulty\": \"Easy\", \"Rnds\": 1.82, \"% PC HP\": 8}, {\"PC Level\": 10, \"Monsters\": 1, \"Difficulty\": \"Medium\", \"Rnds\": 2.33, \"% PC HP\": 14}, {\"PC Level\": 10, \"Monsters\": 1, \"Difficulty\": \"Hard\", \"Rnds\": 3.11, \"% PC HP\": 27}, {\"PC Level\": 10, \"Monsters\": 1, \"Difficulty\": \"Deadly\", \"Rnds\": 3.81, \"% PC HP\": 39}, {\"PC Level\": 3, \"Monsters\": 2, \"Difficulty\": \"Easy\", \"Rnds\": 4.6, \"% PC HP\": 20}, {\"PC Level\": 3, \"Monsters\": 2, \"Difficulty\": \"Medium\", \"Rnds\": 5.98, \"% PC HP\": 44}, {\"PC Level\": 3, \"Monsters\": 2, \"Difficulty\": \"Hard\", \"Rnds\": 5.98, \"% PC HP\": 44}, {\"PC Level\": 3, \"Monsters\": 2, \"Difficulty\": \"Deadly\", \"Rnds\": 7.13, \"% PC HP\": 78}, {\"PC Level\": 4, \"Monsters\": 2, \"Difficulty\": \"Easy\", \"Rnds\": 3.69, \"% PC HP\": 10}, {\"PC Level\": 4, \"Monsters\": 2, \"Difficulty\": \"Medium\", \"Rnds\": 4.8, \"% PC HP\": 22}, {\"PC Level\": 4, \"Monsters\": 2, \"Difficulty\": \"Hard\", \"Rnds\": 5.72, \"% PC HP\": 39}, {\"PC Level\": 4, \"Monsters\": 2, \"Difficulty\": \"Deadly\", \"Rnds\": 6.65, \"% PC HP\": 68}, {\"PC Level\": 6, \"Monsters\": 2, \"Difficulty\": \"Easy\", \"Rnds\": 2.92, \"% PC HP\": 13}, {\"PC Level\": 6, \"Monsters\": 2, \"Difficulty\": \"Medium\", \"Rnds\": 3.39, \"% PC HP\": 23}, {\"PC Level\": 6, \"Monsters\": 2, \"Difficulty\": \"Hard\", \"Rnds\": 4.12, \"% PC HP\": 39}, {\"PC Level\": 6, \"Monsters\": 2, \"Difficulty\": \"Deadly\", \"Rnds\": 4.96, \"% PC HP\": 62}, {\"PC Level\": 8, \"Monsters\": 2, \"Difficulty\": \"Easy\", \"Rnds\": 3.01, \"% PC HP\": 15}, {\"PC Level\": 8, \"Monsters\": 2, \"Difficulty\": \"Medium\", \"Rnds\": 3.64, \"% PC HP\": 26}, {\"PC Level\": 8, \"Monsters\": 2, \"Difficulty\": \"Hard\", \"Rnds\": 4.37, \"% PC HP\": 41}, {\"PC Level\": 8, \"Monsters\": 2, \"Difficulty\": \"Deadly\", \"Rnds\": 4.84, \"% PC HP\": 53}, {\"PC Level\": 10, \"Monsters\": 2, \"Difficulty\": \"Easy\", \"Rnds\": 2.27, \"% PC HP\": 9}, {\"PC Level\": 10, \"Monsters\": 2, \"Difficulty\": \"Medium\", \"Rnds\": 2.74, \"% PC HP\": 15}, {\"PC Level\": 10, \"Monsters\": 2, \"Difficulty\": \"Hard\", \"Rnds\": 3.64, \"% PC HP\": 31}, {\"PC Level\": 10, \"Monsters\": 2, \"Difficulty\": \"Deadly\", \"Rnds\": 4.65, \"% PC HP\": 56}, {\"PC Level\": 3, \"Monsters\": 3, \"Difficulty\": \"Easy\", \"Rnds\": 3.91, \"% PC HP\": 15}, {\"PC Level\": 3, \"Monsters\": 3, \"Difficulty\": \"Medium\", \"Rnds\": 6.28, \"% PC HP\": 42}, {\"PC Level\": 3, \"Monsters\": 3, \"Difficulty\": \"Hard\", \"Rnds\": 7.59, \"% PC HP\": 60}, {\"PC Level\": 3, \"Monsters\": 3, \"Difficulty\": \"Deadly\", \"Rnds\": 6.86, \"% PC HP\": 58}, {\"PC Level\": 4, \"Monsters\": 3, \"Difficulty\": \"Easy\", \"Rnds\": 3.69, \"% PC HP\": 13}, {\"PC Level\": 4, \"Monsters\": 3, \"Difficulty\": \"Medium\", \"Rnds\": 4.15, \"% PC HP\": 19}, {\"PC Level\": 4, \"Monsters\": 3, \"Difficulty\": \"Hard\", \"Rnds\": 4.62, \"% PC HP\": 29}, {\"PC Level\": 4, \"Monsters\": 3, \"Difficulty\": \"Deadly\", \"Rnds\": 7.02, \"% PC HP\": 55}, {\"PC Level\": 6, \"Monsters\": 3, \"Difficulty\": \"Easy\", \"Rnds\": 2.81, \"% PC HP\": 12}, {\"PC Level\": 6, \"Monsters\": 3, \"Difficulty\": \"Medium\", \"Rnds\": 4.14, \"% PC HP\": 26}, {\"PC Level\": 6, \"Monsters\": 3, \"Difficulty\": \"Hard\", \"Rnds\": 4.47, \"% PC HP\": 34}, {\"PC Level\": 6, \"Monsters\": 3, \"Difficulty\": \"Deadly\", \"Rnds\": 5.31, \"% PC HP\": 64}, {\"PC Level\": 8, \"Monsters\": 3, \"Difficulty\": \"Easy\", \"Rnds\": 3.17, \"% PC HP\": 12}, {\"PC Level\": 8, \"Monsters\": 3, \"Difficulty\": \"Medium\", \"Rnds\": 3.96, \"% PC HP\": 23}, {\"PC Level\": 8, \"Monsters\": 3, \"Difficulty\": \"Hard\", \"Rnds\": 4.7, \"% PC HP\": 43}, {\"PC Level\": 8, \"Monsters\": 3, \"Difficulty\": \"Deadly\", \"Rnds\": 5.35, \"% PC HP\": 56}, {\"PC Level\": 10, \"Monsters\": 3, \"Difficulty\": \"Easy\", \"Rnds\": 2.78, \"% PC HP\": 10}, {\"PC Level\": 10, \"Monsters\": 3, \"Difficulty\": \"Medium\", \"Rnds\": 3.31, \"% PC HP\": 21}, {\"PC Level\": 10, \"Monsters\": 3, \"Difficulty\": \"Hard\", \"Rnds\": 4.03, \"% PC HP\": 33}, {\"PC Level\": 10, \"Monsters\": 3, \"Difficulty\": \"Deadly\", \"Rnds\": 4.45, \"% PC HP\": 45}, {\"PC Level\": 3, \"Monsters\": 4, \"Difficulty\": \"Easy\", \"Rnds\": 1.61, \"% PC HP\": 6}, {\"PC Level\": 3, \"Monsters\": 4, \"Difficulty\": \"Medium\", \"Rnds\": 3.3, \"% PC HP\": 20}, {\"PC Level\": 3, \"Monsters\": 4, \"Difficulty\": \"Hard\", \"Rnds\": 4.6, \"% PC HP\": 39}, {\"PC Level\": 3, \"Monsters\": 4, \"Difficulty\": \"Deadly\", \"Rnds\": 5.98, \"% PC HP\": 87}, {\"PC Level\": 4, \"Monsters\": 4, \"Difficulty\": \"Easy\", \"Rnds\": 2.65, \"% PC HP\": 10}, {\"PC Level\": 4, \"Monsters\": 4, \"Difficulty\": \"Medium\", \"Rnds\": 3.69, \"% PC HP\": 20}, {\"PC Level\": 4, \"Monsters\": 4, \"Difficulty\": \"Hard\", \"Rnds\": 4.8, \"% PC HP\": 44}, {\"PC Level\": 4, \"Monsters\": 4, \"Difficulty\": \"Deadly\", \"Rnds\": 4.8, \"% PC HP\": 44}, {\"PC Level\": 6, \"Monsters\": 4, \"Difficulty\": \"Easy\", \"Rnds\": 1.88, \"% PC HP\": 6}, {\"PC Level\": 6, \"Monsters\": 4, \"Difficulty\": \"Medium\", \"Rnds\": 2.45, \"% PC HP\": 14}, {\"PC Level\": 6, \"Monsters\": 4, \"Difficulty\": \"Hard\", \"Rnds\": 2.92, \"% PC HP\": 26}, {\"PC Level\": 6, \"Monsters\": 4, \"Difficulty\": \"Deadly\", \"Rnds\": 3.39, \"% PC HP\": 45}, {\"PC Level\": 8, \"Monsters\": 4, \"Difficulty\": \"Easy\", \"Rnds\": 2.17, \"% PC HP\": 10}, {\"PC Level\": 8, \"Monsters\": 4, \"Difficulty\": \"Medium\", \"Rnds\": 2.59, \"% PC HP\": 17}, {\"PC Level\": 8, \"Monsters\": 4, \"Difficulty\": \"Hard\", \"Rnds\": 3.01, \"% PC HP\": 30}, {\"PC Level\": 8, \"Monsters\": 4, \"Difficulty\": \"Deadly\", \"Rnds\": 3.64, \"% PC HP\": 51}, {\"PC Level\": 10, \"Monsters\": 4, \"Difficulty\": \"Easy\", \"Rnds\": 1.64, \"% PC HP\": 6}, {\"PC Level\": 10, \"Monsters\": 4, \"Difficulty\": \"Medium\", \"Rnds\": 1.96, \"% PC HP\": 10}, {\"PC Level\": 10, \"Monsters\": 4, \"Difficulty\": \"Hard\", \"Rnds\": 2.27, \"% PC HP\": 18}, {\"PC Level\": 10, \"Monsters\": 4, \"Difficulty\": \"Deadly\", \"Rnds\": 2.74, \"% PC HP\": 30}, {\"PC Level\": 3, \"Monsters\": 8, \"Difficulty\": \"Easy\", \"Rnds\": 0.31, \"% PC HP\": 1}, {\"PC Level\": 3, \"Monsters\": 8, \"Difficulty\": \"Medium\", \"Rnds\": 1.61, \"% PC HP\": 12}, {\"PC Level\": 3, \"Monsters\": 8, \"Difficulty\": \"Hard\", \"Rnds\": 3.3, \"% PC HP\": 40}, {\"PC Level\": 3, \"Monsters\": 8, \"Difficulty\": \"Deadly\", \"Rnds\": 3.3, \"% PC HP\": 40}, {\"PC Level\": 4, \"Monsters\": 8, \"Difficulty\": \"Easy\", \"Rnds\": 1.29, \"% PC HP\": 6}, {\"PC Level\": 4, \"Monsters\": 8, \"Difficulty\": \"Medium\", \"Rnds\": 2.65, \"% PC HP\": 20}, {\"PC Level\": 4, \"Monsters\": 8, \"Difficulty\": \"Hard\", \"Rnds\": 2.65, \"% PC HP\": 20}, {\"PC Level\": 4, \"Monsters\": 8, \"Difficulty\": \"Deadly\", \"Rnds\": 3.69, \"% PC HP\": 39}, {\"PC Level\": 6, \"Monsters\": 8, \"Difficulty\": \"Easy\", \"Rnds\": 1.35, \"% PC HP\": 7}, {\"PC Level\": 6, \"Monsters\": 8, \"Difficulty\": \"Medium\", \"Rnds\": 1.88, \"% PC HP\": 13}, {\"PC Level\": 6, \"Monsters\": 8, \"Difficulty\": \"Hard\", \"Rnds\": 2.45, \"% PC HP\": 29}, {\"PC Level\": 6, \"Monsters\": 8, \"Difficulty\": \"Deadly\", \"Rnds\": 2.45, \"% PC HP\": 29}, {\"PC Level\": 8, \"Monsters\": 8, \"Difficulty\": \"Easy\", \"Rnds\": 1.67, \"% PC HP\": 9}, {\"PC Level\": 8, \"Monsters\": 8, \"Difficulty\": \"Medium\", \"Rnds\": 2.17, \"% PC HP\": 19}, {\"PC Level\": 8, \"Monsters\": 8, \"Difficulty\": \"Hard\", \"Rnds\": 2.17, \"% PC HP\": 19}, {\"PC Level\": 8, \"Monsters\": 8, \"Difficulty\": \"Deadly\", \"Rnds\": 2.59, \"% PC HP\": 34}, {\"PC Level\": 10, \"Monsters\": 8, \"Difficulty\": \"Easy\", \"Rnds\": 1.26, \"% PC HP\": 5}, {\"PC Level\": 10, \"Monsters\": 8, \"Difficulty\": \"Medium\", \"Rnds\": 1.64, \"% PC HP\": 11}, {\"PC Level\": 10, \"Monsters\": 8, \"Difficulty\": \"Hard\", \"Rnds\": 1.96, \"% PC HP\": 20}, {\"PC Level\": 10, \"Monsters\": 8, \"Difficulty\": \"Deadly\", \"Rnds\": 1.96, \"% PC HP\": 20}]}}, {\"mode\": \"vega-lite\"});\n",
       "</script>"
      ],
      "text/plain": [
       "alt.Chart(...)"
      ]
     },
     "execution_count": 53,
     "metadata": {},
     "output_type": "execute_result"
    }
   ],
   "source": [
    "chart = (alt.Chart(simudata)\n",
    "         .encode(\n",
    "            x = 'PC Level',\n",
    "            y = '% PC HP',\n",
    "            color = 'Difficulty'\n",
    "         )\n",
    "         .mark_circle()\n",
    "         )\n",
    "chart"
   ]
  },
  {
   "cell_type": "code",
   "execution_count": null,
   "metadata": {},
   "outputs": [],
   "source": []
  }
 ],
 "metadata": {
  "kernelspec": {
   "display_name": "Python 3",
   "language": "python",
   "name": "python3"
  },
  "language_info": {
   "codemirror_mode": {
    "name": "ipython",
    "version": 3
   },
   "file_extension": ".py",
   "mimetype": "text/x-python",
   "name": "python",
   "nbconvert_exporter": "python",
   "pygments_lexer": "ipython3",
   "version": "3.9.7"
  },
  "orig_nbformat": 4
 },
 "nbformat": 4,
 "nbformat_minor": 2
}
